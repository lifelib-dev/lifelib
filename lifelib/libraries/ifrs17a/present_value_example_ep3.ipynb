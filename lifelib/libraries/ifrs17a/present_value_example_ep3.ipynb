{
 "cells": [
  {
   "cell_type": "markdown",
   "id": "15c42501",
   "metadata": {},
   "source": [
    "# Running Present Value Example Ep.3\n",
    "\n",
    "This notebook runs `present_value_ep3.py` and outputs results in tables. The result tables replicate figures shown in a video  on Systemortph's YouTube channel, [Systemorph #Techucation for IFRS17: Adapt the Systemorph Notebook to your needs](https://youtu.be/bhtSm0cJudo).\n",
    "    \n",
    "To run this notebook, the `ifrs17` and `present_value_ep3` modules in your copy of the `ifrs17a` library need to be importable. To ensure they are importable, make sure the current directory is set to your `ifrs17a` copy. Typically, the current directory is set to the location where you started this notebook, so it should run fine unless you have moved the notebook elsewhere.\n",
    " \n",
    "To check the current directory from Python, import `os`, and execute `os.getcwd()`. To change the current directory in Python, use the `os.chdir` function."
   ]
  },
  {
   "cell_type": "markdown",
   "id": "b76482dc",
   "metadata": {},
   "source": [
    "## Running `present_value_ep3.py`\n",
    "\n",
    "`present_value_ep3.py` is executed when it's imported by the import statement. `ifrsvars` defined in the template module refers to a DataFrame that contains all the IFRS variables as rows."
   ]
  },
  {
   "cell_type": "code",
   "execution_count": 1,
   "id": "510d8b5a",
   "metadata": {},
   "outputs": [],
   "source": [
    "import pandas as pd\n",
    "from present_value_ep3 import ifrsvars as vars"
   ]
  },
  {
   "cell_type": "markdown",
   "id": "98af3e3f",
   "metadata": {},
   "source": [
    "The video shows present values by repoting nodes in different tables.\n",
    "The table below replicates the figures for the reporting node `G` for the period ending at the end of March 2021, which are shown around [the 1:50 mark in the video](https://youtu.be/bhtSm0cJudo?t=110). "
   ]
  },
  {
   "cell_type": "code",
   "execution_count": 2,
   "id": "213dc9a8",
   "metadata": {},
   "outputs": [
    {
     "data": {
      "text/html": [
       "<div>\n",
       "<style scoped>\n",
       "    .dataframe tbody tr th:only-of-type {\n",
       "        vertical-align: middle;\n",
       "    }\n",
       "\n",
       "    .dataframe tbody tr th {\n",
       "        vertical-align: top;\n",
       "    }\n",
       "\n",
       "    .dataframe thead th {\n",
       "        text-align: right;\n",
       "    }\n",
       "</style>\n",
       "<table border=\"1\" class=\"dataframe\">\n",
       "  <thead>\n",
       "    <tr style=\"text-align: right;\">\n",
       "      <th></th>\n",
       "      <th>AmountType</th>\n",
       "      <th>CL</th>\n",
       "      <th>PR</th>\n",
       "    </tr>\n",
       "    <tr>\n",
       "      <th>Novelty</th>\n",
       "      <th>AocType</th>\n",
       "      <th></th>\n",
       "      <th></th>\n",
       "    </tr>\n",
       "  </thead>\n",
       "  <tbody>\n",
       "    <tr>\n",
       "      <th>C</th>\n",
       "      <th>EOP</th>\n",
       "      <td>11459.723798</td>\n",
       "      <td>-14323.349204</td>\n",
       "    </tr>\n",
       "    <tr>\n",
       "      <th rowspan=\"5\" valign=\"top\">N</th>\n",
       "      <th>AU</th>\n",
       "      <td>-770.405525</td>\n",
       "      <td>-1068.926528</td>\n",
       "    </tr>\n",
       "    <tr>\n",
       "      <th>BOP</th>\n",
       "      <td>11364.693439</td>\n",
       "      <td>-17128.546413</td>\n",
       "    </tr>\n",
       "    <tr>\n",
       "      <th>CF</th>\n",
       "      <td>-240.320160</td>\n",
       "      <td>2210.550000</td>\n",
       "    </tr>\n",
       "    <tr>\n",
       "      <th>EV</th>\n",
       "      <td>916.777904</td>\n",
       "      <td>1913.390722</td>\n",
       "    </tr>\n",
       "    <tr>\n",
       "      <th>IA</th>\n",
       "      <td>188.978140</td>\n",
       "      <td>-249.816985</td>\n",
       "    </tr>\n",
       "  </tbody>\n",
       "</table>\n",
       "</div>"
      ],
      "text/plain": [
       "AmountType                 CL            PR\n",
       "Novelty AocType                            \n",
       "C       EOP      11459.723798 -14323.349204\n",
       "N       AU        -770.405525  -1068.926528\n",
       "        BOP      11364.693439 -17128.546413\n",
       "        CF        -240.320160   2210.550000\n",
       "        EV         916.777904   1913.390722\n",
       "        IA         188.978140   -249.816985"
      ]
     },
     "execution_count": 2,
     "metadata": {},
     "output_type": "execute_result"
    }
   ],
   "source": [
    "filter = ((vars['EconomicBasis']=='L') & (vars['EstimateType']=='BE')\n",
    "          & (vars['ReportingNode']=='G') & (vars['Year']==2021) & (vars['Month']==3))\n",
    "\n",
    "df = vars[filter].set_index(['Novelty', 'AocType', 'AmountType'])['Value'].groupby(level=[0, 1, 2]).sum().unstack(level=2)\n",
    "df"
   ]
  },
  {
   "cell_type": "markdown",
   "id": "bb43715e",
   "metadata": {},
   "source": [
    "The table below replicates the figures for the reporting node `DE` for the period ending at the end of December 2021, which are shown around [the 7:50 mark in the video](https://youtu.be/bhtSm0cJudo?t=470). "
   ]
  },
  {
   "cell_type": "code",
   "execution_count": 3,
   "id": "1ba61463",
   "metadata": {},
   "outputs": [
    {
     "data": {
      "text/html": [
       "<div>\n",
       "<style scoped>\n",
       "    .dataframe tbody tr th:only-of-type {\n",
       "        vertical-align: middle;\n",
       "    }\n",
       "\n",
       "    .dataframe tbody tr th {\n",
       "        vertical-align: top;\n",
       "    }\n",
       "\n",
       "    .dataframe thead th {\n",
       "        text-align: right;\n",
       "    }\n",
       "</style>\n",
       "<table border=\"1\" class=\"dataframe\">\n",
       "  <thead>\n",
       "    <tr style=\"text-align: right;\">\n",
       "      <th></th>\n",
       "      <th>AmountType</th>\n",
       "      <th>CL</th>\n",
       "      <th>PR</th>\n",
       "    </tr>\n",
       "    <tr>\n",
       "      <th>Novelty</th>\n",
       "      <th>AocType</th>\n",
       "      <th></th>\n",
       "      <th></th>\n",
       "    </tr>\n",
       "  </thead>\n",
       "  <tbody>\n",
       "    <tr>\n",
       "      <th>C</th>\n",
       "      <th>EOP</th>\n",
       "      <td>7051.271474</td>\n",
       "      <td>-6587.673594</td>\n",
       "    </tr>\n",
       "    <tr>\n",
       "      <th rowspan=\"5\" valign=\"top\">N</th>\n",
       "      <th>AU</th>\n",
       "      <td>-470.146752</td>\n",
       "      <td>-667.863724</td>\n",
       "    </tr>\n",
       "    <tr>\n",
       "      <th>BOP</th>\n",
       "      <td>7102.933399</td>\n",
       "      <td>-11801.034216</td>\n",
       "    </tr>\n",
       "    <tr>\n",
       "      <th>CF</th>\n",
       "      <td>-614.620787</td>\n",
       "      <td>5237.597000</td>\n",
       "    </tr>\n",
       "    <tr>\n",
       "      <th>EV</th>\n",
       "      <td>564.101718</td>\n",
       "      <td>1219.303073</td>\n",
       "    </tr>\n",
       "    <tr>\n",
       "      <th>IA</th>\n",
       "      <td>469.003896</td>\n",
       "      <td>-575.675728</td>\n",
       "    </tr>\n",
       "  </tbody>\n",
       "</table>\n",
       "</div>"
      ],
      "text/plain": [
       "AmountType                CL            PR\n",
       "Novelty AocType                           \n",
       "C       EOP      7051.271474  -6587.673594\n",
       "N       AU       -470.146752   -667.863724\n",
       "        BOP      7102.933399 -11801.034216\n",
       "        CF       -614.620787   5237.597000\n",
       "        EV        564.101718   1219.303073\n",
       "        IA        469.003896   -575.675728"
      ]
     },
     "execution_count": 3,
     "metadata": {},
     "output_type": "execute_result"
    }
   ],
   "source": [
    "filter = ((vars['EconomicBasis']=='L') & (vars['EstimateType']=='BE')\n",
    "          & (vars['ReportingNode']=='DE') & (vars['Year']==2021) & (vars['Month']==12))\n",
    "\n",
    "df = vars[filter].set_index(['Novelty', 'AocType', 'AmountType'])['Value'].groupby(level=[0, 1, 2]).sum().unstack(level=2)\n",
    "df"
   ]
  }
 ],
 "metadata": {
  "kernelspec": {
   "display_name": "Python 3 (ipykernel)",
   "language": "python",
   "name": "python3"
  },
  "language_info": {
   "codemirror_mode": {
    "name": "ipython",
    "version": 3
   },
   "file_extension": ".py",
   "mimetype": "text/x-python",
   "name": "python",
   "nbconvert_exporter": "python",
   "pygments_lexer": "ipython3",
   "version": "3.10.9"
  }
 },
 "nbformat": 4,
 "nbformat_minor": 5
}
