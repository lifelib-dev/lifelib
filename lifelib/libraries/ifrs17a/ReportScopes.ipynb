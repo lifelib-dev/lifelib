{
 "cells": [
  {
   "cell_type": "code",
   "execution_count": 1,
   "id": "99c119b7",
   "metadata": {},
   "outputs": [],
   "source": [
    "import pandas as pd\n",
    "from ifrs17_template.template import *"
   ]
  },
  {
   "cell_type": "markdown",
   "id": "feb674cb",
   "metadata": {},
   "source": [
    "### Best Estimate\n",
    "\n",
    "BestEstimate: \n",
    "\n",
    "    LockedBestEstimate if ValuationApproach == 'BBA' and IsOci == True else CurrentBestEstimate\n",
    "    \n",
    "\n",
    "LockedBestEstimate:\n",
    "\n",
    "    EstimateType == 'BE'\n",
    "    EconomicBasis ==  'L'\n",
    "    \n",
    "\n",
    "CurrentBestEstimate:\n",
    "\n",
    "    EstimateType == 'BE'\n",
    "    EconomicBasis ==  'C'"
   ]
  },
  {
   "cell_type": "markdown",
   "id": "5d177aa7",
   "metadata": {},
   "source": [
    "### Risk Adjustment\n",
    "\n",
    "\n",
    "RiskAdjustment:\n",
    "\n",
    "    LockedRiskAdjustment if ValuationApproach == 'BBA' and IsOci == True else CurrentRiskAdjustment\n",
    "    EstimateType == 'RA'\n",
    "    \n",
    "\n",
    "LockedRiskAdjustment:\n",
    "\n",
    "    EstimateType == 'RA'\n",
    "    EconomicBasis ==  'L'\n",
    "    \n",
    "\n",
    "CurrentRiskAdjustment:\n",
    "\n",
    "    EstimateType == 'RA'\n",
    "    EconomicBasis ==  'C'\n"
   ]
  },
  {
   "cell_type": "markdown",
   "id": "661d2f09",
   "metadata": {},
   "source": [
    "## Fulfillment Cash flows\n",
    "\n",
    "Fcf:\n",
    "\n",
    "    BestEstimate + RiskAdjustment\n",
    "\n",
    "LockedFcf:\n",
    "\n",
    "    LockedBestEstimate + LockedRiskAdjustment\n",
    "    \n",
    "CurrentFcf:\n",
    "\n",
    "    CurrentBestEstimate + CurrentRiskAdjustment"
   ]
  },
  {
   "cell_type": "markdown",
   "id": "bb2064de",
   "metadata": {},
   "source": [
    "## LRC Technical Margin: CSM, LC, LoReCo\n",
    "\n",
    "Csm:\n",
    "\n",
    "    EstimateType == 'C'\n",
    "    \n",
    "Lc: \n",
    "\n",
    "    EstimateType == 'L'    \n",
    "    \n",
    "Loreco:\n",
    "\n",
    "    EstimateType == 'LR' \n",
    "\n",
    "\n",
    "LrcTechnicalMargin\n",
    "\n",
    "    Lc + Loreco - 1 * Csm"
   ]
  },
  {
   "cell_type": "markdown",
   "id": "078077b8",
   "metadata": {},
   "source": [
    "## Written, Accruals and Deferrals \n",
    "\n",
    "Written:\n",
    "\n",
    "    EstimateType == 'A' \n",
    "\n",
    "Advance:\n",
    "\n",
    "    EstimateType == 'AA' \n",
    "\n",
    "Overdue:\n",
    "\n",
    "    EstimateType == 'OA' \n",
    "\n",
    "Deferrals\n",
    "\n",
    "    EstimateType == 'DA' "
   ]
  },
  {
   "cell_type": "markdown",
   "id": "76bb6f36",
   "metadata": {},
   "source": [
    "## Experience Adjustment\n",
    "\n",
    "ExperienceAdjustment:\n",
    "\n",
    "    Written[AocType == 'CF'] - BestEstimate[AocType == 'CF' & Novelty == 'C']"
   ]
  },
  {
   "cell_type": "markdown",
   "id": "82bc7732",
   "metadata": {},
   "source": [
    "## LIC Actuarial (Actuarial Liability for Incurred Claims)\n",
    "\n",
    "LicActuarial:\n",
    "\n",
    "    CurrentFcf[EstimateType == 'LIC']"
   ]
  },
  {
   "cell_type": "markdown",
   "id": "61e66e41",
   "metadata": {},
   "source": [
    "## LIC (Liability for Incurred Claims)\n",
    "\n",
    "Lic:\n",
    "\n",
    "    bop + delta + eop where\n",
    "        bop: licData[AocType == 'BOP' & Novelty == 'I']\n",
    "        delta: licData[AocType != 'BOP' & AocType != 'EOP'] + licData[AocType == 'BOP' & Novelty == 'N']\n",
    "        eop: licData[AocType == 'EOP']\n",
    "            where\n",
    "            licData: licActuarial + accrual\n",
    "                where\n",
    "                accrual: Advance[LiabilityType == 'LIC']\n",
    "        "
   ]
  },
  {
   "cell_type": "markdown",
   "id": "e1ca4ff7",
   "metadata": {},
   "source": [
    "## LRC Actuarial (Actuarial Liability for Remaining Coverage)\n",
    "\n",
    "LrcActuarial:\n",
    "\n",
    "    CurrentFcf[LiabilityType == 'LRC'] + Csm + Loreco"
   ]
  },
  {
   "cell_type": "markdown",
   "id": "32cb6d9f",
   "metadata": {},
   "source": [
    "## LRC (Liability for Remaining Coverage)\n",
    "\n",
    "Lrc:\n",
    "\n",
    "    bop + delta + eop where\n",
    "        bop:  lrcData[(AocType == 'BOP') & (Novelty == 'I')]\n",
    "        delta: lrcData[(AocType != 'BOP') & (AocType != 'EOP')] + lrcData[(AocType == 'BOP') & (Novelty == 'N')]\n",
    "        eop: lrcData[(AocType == 'BOP') & (Novelty == 'I')] where\n",
    "            lrcData: LrcActuarial + accrual\n",
    "            accrual: Advance[LiabilityType == 'LRC'] + Overdue[LiabilityType == 'LRC']"
   ]
  },
  {
   "cell_type": "markdown",
   "id": "a5c158cc",
   "metadata": {},
   "source": [
    "## Fulfillment Cash flows (excluding the Loss Component)\n",
    "\n",
    "FcfChangeInEstimate:"
   ]
  },
  {
   "cell_type": "markdown",
   "id": "90d1c551",
   "metadata": {},
   "source": [
    "## Contractual Service Margin (CSM)\n",
    "\n",
    "\n",
    "CsmChangeInEstimate:"
   ]
  },
  {
   "cell_type": "markdown",
   "id": "6bb32175",
   "metadata": {},
   "source": [
    "## Loss Component (LC)\n",
    "\n",
    "\n",
    "LcChangeInEstimate:"
   ]
  },
  {
   "cell_type": "markdown",
   "id": "752205aa",
   "metadata": {},
   "source": [
    "## Loss Recovery Component (LoReCo)\n",
    "\n",
    "LorecoChangeInEstimate"
   ]
  },
  {
   "cell_type": "markdown",
   "id": "526affc2",
   "metadata": {},
   "source": [
    "## Incurred Actuals\n",
    "\n",
    "IncurredActuals"
   ]
  },
  {
   "cell_type": "markdown",
   "id": "0648fab2",
   "metadata": {},
   "source": [
    "## Incurred Deferrals and Acquisition Expenses\n",
    "\n",
    "IncurredDeferrals"
   ]
  },
  {
   "cell_type": "markdown",
   "id": "f86027f8",
   "metadata": {},
   "source": [
    "## Experience Adjustment on Premium (allocation to CSM vs P&L recognition)\n",
    "\n",
    "ExperienceAdjustmentOnPremium"
   ]
  },
  {
   "cell_type": "markdown",
   "id": "0131efa7",
   "metadata": {},
   "source": [
    "## Financial Performance\n",
    "\n",
    "FinancialPerformance:\n",
    "\n",
    "    FcfChangeInEstimate + CsmChangeInEstimate + LcChangeInEstimate + LorecoChangeInEstimate + IncurredActuals + IncurredDeferrals + ExperienceAdjustmentOnPremium\n"
   ]
  }
 ],
 "metadata": {
  "kernelspec": {
   "display_name": "Python 3 (ipykernel)",
   "language": "python",
   "name": "python3"
  },
  "language_info": {
   "codemirror_mode": {
    "name": "ipython",
    "version": 3
   },
   "file_extension": ".py",
   "mimetype": "text/x-python",
   "name": "python",
   "nbconvert_exporter": "python",
   "pygments_lexer": "ipython3",
   "version": "3.10.6"
  }
 },
 "nbformat": 4,
 "nbformat_minor": 5
}
