{
 "cells": [
  {
   "cell_type": "markdown",
   "id": "3388b958",
   "metadata": {},
   "source": [
    "# 2. Extended Stochastic Example\n",
    "\n",
    "\n",
    "This example extends the [Simple Stochastic Example](savings_example1.ipynb), and reflects fee collection, policy decrement, GMDB payouts and dynamic lapse rates.\n",
    "\n",
    "\n",
    "The [Simple Stochastic Example](savings_example1.ipynb) shows how TVOGs on GMADB policies can be calculated by two different methods, the Black-Scholes-Merton formula and Monte-Carlo simulations with risk neutral scenarios. \n",
    "However, the example is too simplified to be practical. \n",
    "It does not consider fees on account value and policy decrement.\n",
    "This example considers the effect of the fee collection and policy decrement.\n",
    "Futhurmore, this example introduces a simple dynamic lapse assumption to make GMAB pay-offs path dependent.\n",
    "\n",
    "\n",
    "## Change summary\n",
    "\n",
    "\n",
    "The model for this example is developed by updating `CashValue_ME_EX1`, named `CashValue_ME_EX2` and included in the ``basiclife`` library.\n",
    "\n",
    "The following page shows a complete comparison of formulas in the `Projection` space between `CashValue_ME_EX1` and `CashValue_ME_EX2` with highlights on updated parts.\n",
    "\n",
    "https://www.diffchecker.com/5QHCTyll\n",
    "\n",
    "\n",
    "The following cells are newly added in `CashValue_ME_EX2`.\n",
    "\n",
    "* `csv_pp`: Cash surrender value per policy\n",
    "* `has_fees`: A switch to turn maintenance fees on and off\n",
    "* `has_mortality`: A switch to turn mortality decrement on and off\n",
    "* `has_lapse`: A switch to turn lapse decrement on and off\n",
    "* `is_lapse_dynamic`: A switch to turn dynamic lapse factor on and off\n",
    "* `monte_carlo`: A summary table showing the time values of guarantees and present value of fees\n",
    "* `pv_maint_fee`: Present value of maintenance fees deducted from account value\n",
    "\n",
    "To specify simulation configurations, following references are newly added.\n",
    "\n",
    "* `sim_param_table`: A DataFrame containing configuration parameter combinations by simulation\n",
    "* `sim_id`: Selected simulation ID\n",
    "\n",
    "\n",
    "The formulas of the following cells are updated from `CashValue_ME_EX1`.\n",
    "\n",
    "* `formula_option_put`: Paramter $q$ is introduced to denote continuous dividend yield.\n",
    "* `lapse_rate`: Base lapses are updated and a dynamic factor is considered\n",
    "* `maint_fee_rate`: Fee deduction can now be activated/deactivated\n",
    "* `mort_rate`: Mortality rates are replaced\n",
    "\n",
    "Following input data is updated.\n",
    "\n",
    "* `model_point`, `model_point_1`: `age_at_entry` is now all 70.\n",
    "* `mort_table`:  New rates are taken from [the 2019 period life table for the Social Security area population in US](https://www.ssa.gov/oact/STATS/table4c6.html)\n",
    "\n",
    "`Projection` space is now parameterized with `sim_id`.\n",
    "\n",
    "`Summary`, a new space to summarize the results of `Projection` with various `sim_id` is introduced.\n",
    "\n",
    "\n",
    "The following sections discuss in more details each change made on `CashValue_ME_EX1` to develop `CashValue_ME_EX2`.\n"
   ]
  },
  {
   "cell_type": "markdown",
   "id": "38e4d9ba",
   "metadata": {},
   "source": [
    "Click the badge below to run this notebook online on Google Colab. You need a Google account and need to be logged in to it to run this notebook on Google Colab.\n",
    "[![Run on Google Colab](https://colab.research.google.com/assets/colab-badge.svg)](https://colab.research.google.com/github/lifelib-dev/lifelib/blob/current/lifelib/libraries/savings/savings_example2.ipynb)\n",
    "\n",
    "\n",
    "The next code cell below is relevant only when you run this notebook on Google Colab. It installs lifelib and creates a copy of the library for this notebook."
   ]
  },
  {
   "cell_type": "code",
   "execution_count": 1,
   "id": "30a34131",
   "metadata": {},
   "outputs": [],
   "source": [
    "import sys, os\n",
    "\n",
    "if 'google.colab' in sys.modules:\n",
    "    lib = 'savings'; lib_dir = '/content/'+ lib\n",
    "    if not os.path.exists(lib_dir):\n",
    "        !pip install lifelib\n",
    "        import lifelib; lifelib.create(lib, lib_dir)\n",
    "        \n",
    "    %cd $lib_dir"
   ]
  },
  {
   "cell_type": "markdown",
   "id": "c599854e",
   "metadata": {},
   "source": [
    "The code below imports essential modules, reads the `CashValue_ME_EX2` model into Python, and defines `proj` as an alias for the `Projection` space for convenience. "
   ]
  },
  {
   "cell_type": "code",
   "execution_count": 2,
   "id": "a4baaf22",
   "metadata": {},
   "outputs": [],
   "source": [
    "import numpy as np\n",
    "import pandas as pd\n",
    "import modelx as mx\n",
    "\n",
    "model = mx.read_model('CashValue_ME_EX2')\n",
    "proj = model.Projection"
   ]
  },
  {
   "cell_type": "markdown",
   "id": "b86432ff",
   "metadata": {},
   "source": [
    "## Simulation patterns\n",
    "\n",
    "Switches are introduced to activage/deactivate changes made in this example to make it easy to examine the impact of each change. The list below shows the switches and what they control:\n",
    "\n",
    "* `has_fees`: Whether to deduct maintenance fees from account value\n",
    "* `has_mortality`: Whether to reflect mortality decrement\n",
    "* `has_lapse`: Whether to reflect lapse decrement\n",
    "* `is_lapse_dynamic`: Whether to make lapse assumption dynamic\n",
    "\n",
    "The `sim_param_table` DataFrame table defines 5 Simulation IDs from 1 through 5. The first simulation, which is obtained by setting 1 to `sim_id`, replicates the result from the `CashValue_ME_EX1` model. Each of the follwoing simulation turns on one change on top of the previous simulation. \n"
   ]
  },
  {
   "cell_type": "code",
   "execution_count": 3,
   "id": "ed4efbac",
   "metadata": {},
   "outputs": [
    {
     "data": {
      "text/html": [
       "<div>\n",
       "<style scoped>\n",
       "    .dataframe tbody tr th:only-of-type {\n",
       "        vertical-align: middle;\n",
       "    }\n",
       "\n",
       "    .dataframe tbody tr th {\n",
       "        vertical-align: top;\n",
       "    }\n",
       "\n",
       "    .dataframe thead th {\n",
       "        text-align: right;\n",
       "    }\n",
       "</style>\n",
       "<table border=\"1\" class=\"dataframe\">\n",
       "  <thead>\n",
       "    <tr style=\"text-align: right;\">\n",
       "      <th></th>\n",
       "      <th>has_fees</th>\n",
       "      <th>has_mortality</th>\n",
       "      <th>has_lapse</th>\n",
       "      <th>is_lapse_dynamic</th>\n",
       "    </tr>\n",
       "    <tr>\n",
       "      <th>sim_id</th>\n",
       "      <th></th>\n",
       "      <th></th>\n",
       "      <th></th>\n",
       "      <th></th>\n",
       "    </tr>\n",
       "  </thead>\n",
       "  <tbody>\n",
       "    <tr>\n",
       "      <th>1</th>\n",
       "      <td>False</td>\n",
       "      <td>False</td>\n",
       "      <td>False</td>\n",
       "      <td>False</td>\n",
       "    </tr>\n",
       "    <tr>\n",
       "      <th>2</th>\n",
       "      <td>True</td>\n",
       "      <td>False</td>\n",
       "      <td>False</td>\n",
       "      <td>False</td>\n",
       "    </tr>\n",
       "    <tr>\n",
       "      <th>3</th>\n",
       "      <td>True</td>\n",
       "      <td>True</td>\n",
       "      <td>False</td>\n",
       "      <td>False</td>\n",
       "    </tr>\n",
       "    <tr>\n",
       "      <th>4</th>\n",
       "      <td>True</td>\n",
       "      <td>True</td>\n",
       "      <td>True</td>\n",
       "      <td>False</td>\n",
       "    </tr>\n",
       "    <tr>\n",
       "      <th>5</th>\n",
       "      <td>True</td>\n",
       "      <td>True</td>\n",
       "      <td>True</td>\n",
       "      <td>True</td>\n",
       "    </tr>\n",
       "  </tbody>\n",
       "</table>\n",
       "</div>"
      ],
      "text/plain": [
       "        has_fees  has_mortality  has_lapse  is_lapse_dynamic\n",
       "sim_id                                                      \n",
       "1          False          False      False             False\n",
       "2           True          False      False             False\n",
       "3           True           True      False             False\n",
       "4           True           True       True             False\n",
       "5           True           True       True              True"
      ]
     },
     "execution_count": 3,
     "metadata": {},
     "output_type": "execute_result"
    }
   ],
   "source": [
    "proj.sim_param_table"
   ]
  },
  {
   "cell_type": "markdown",
   "id": "dbeeb9b4",
   "metadata": {},
   "source": [
    "The cells representing the switches refer to the `sim_param_table` and pick up boolean values based on the value of `sim_id`."
   ]
  },
  {
   "cell_type": "code",
   "execution_count": 4,
   "id": "12e12494",
   "metadata": {},
   "outputs": [
    {
     "data": {
      "text/plain": [
       "def has_fees():\n",
       "    return sim_param_table['has_fees'][sim_id]"
      ]
     },
     "execution_count": 4,
     "metadata": {},
     "output_type": "execute_result"
    }
   ],
   "source": [
    "proj.has_fees.formula"
   ]
  },
  {
   "cell_type": "code",
   "execution_count": 5,
   "id": "d37b27ba",
   "metadata": {},
   "outputs": [
    {
     "data": {
      "text/plain": [
       "def has_mortality():\n",
       "    return sim_param_table['has_mortality'][sim_id]"
      ]
     },
     "execution_count": 5,
     "metadata": {},
     "output_type": "execute_result"
    }
   ],
   "source": [
    "proj.has_mortality.formula"
   ]
  },
  {
   "cell_type": "code",
   "execution_count": 6,
   "id": "816d3914",
   "metadata": {},
   "outputs": [
    {
     "data": {
      "text/plain": [
       "def has_lapse():\n",
       "    return sim_param_table['has_lapse'][sim_id]"
      ]
     },
     "execution_count": 6,
     "metadata": {},
     "output_type": "execute_result"
    }
   ],
   "source": [
    "proj.has_lapse.formula"
   ]
  },
  {
   "cell_type": "code",
   "execution_count": 7,
   "id": "c13fe73d",
   "metadata": {},
   "outputs": [
    {
     "data": {
      "text/plain": [
       "def is_lapse_dynamic():\n",
       "    return sim_param_table['is_lapse_dynamic'][sim_id]"
      ]
     },
     "execution_count": 7,
     "metadata": {},
     "output_type": "execute_result"
    }
   ],
   "source": [
    "proj.is_lapse_dynamic.formula"
   ]
  },
  {
   "cell_type": "markdown",
   "id": "71b2da78",
   "metadata": {},
   "source": [
    "By default, 1 is set to `sim_id` so all the switches are deactivated."
   ]
  },
  {
   "cell_type": "code",
   "execution_count": 8,
   "id": "fb7bcdd3",
   "metadata": {},
   "outputs": [
    {
     "data": {
      "text/plain": [
       "1"
      ]
     },
     "execution_count": 8,
     "metadata": {},
     "output_type": "execute_result"
    }
   ],
   "source": [
    "proj.sim_id"
   ]
  },
  {
   "cell_type": "code",
   "execution_count": 9,
   "id": "08bd89be",
   "metadata": {},
   "outputs": [
    {
     "data": {
      "text/plain": [
       "(False, False, False, False)"
      ]
     },
     "execution_count": 9,
     "metadata": {},
     "output_type": "execute_result"
    }
   ],
   "source": [
    "proj.has_fees(),  proj.has_mortality(), proj.has_lapse() ,proj.is_lapse_dynamic()"
   ]
  },
  {
   "cell_type": "markdown",
   "id": "bfa52802",
   "metadata": {},
   "source": [
    "## Reflecting maintenance fees\n",
    "\n",
    "For simplicity, the `CashValue_ME_EX1` model in the [Simple Stochastic Example](savings_example1.ipynb) omits maintenance fees on account value.\n",
    "In this example, we assume the maintenance fees are deducted from account value at a constant rate of 1% per annum.\n",
    "\n",
    "The [Simple Stochastic Example](savings_example1.ipynb) shows two approaches to calculated the time value of GMAB. Both of the approaches can also be applicable with modification even when the maintenance fees are taken into consideration.\n",
    "\n",
    "The first approach is to use the Black-Scholes-Merton formula.\n",
    "For calculating the time value of GMAB with fee deduction,\n",
    "an extended form of the formula for European options on a stock paying continuous dividends can be applied. Below is the extended formula, and $q$ denotes a continuous dividend yield. All the other symbols mean the same as the [Simple Stochastic Example](savings_example1.ipynb).          \n",
    "\n",
    "$$\n",
    "p=Xe^{-rT}N\\left(-d_{2}\\right)-S_{0}e^{-qT}N\\left(-d_{1}\\right)\n",
    "$$\n",
    "\n",
    "$$\n",
    "d_{1}=\\frac{\\ln\\left(\\frac{S_{0}}{X}\\right)+\\left(r-q+\\frac{\\sigma^{2}}{2}\\right)T}{\\sigma\\sqrt{T}}\n",
    "$$\n",
    "\n",
    "$$\n",
    "d_{2}=d_{1}-\\sigma\\sqrt{T}\n",
    "$$\n",
    "\n",
    "Reference: *Options, Futures, and Other Derivatives* by John C.Hull\n",
    "\n",
    "Accordingly, `formula_option_put` is updated to reflect $q$.\n",
    "\n"
   ]
  },
  {
   "cell_type": "code",
   "execution_count": 10,
   "id": "224c7110",
   "metadata": {},
   "outputs": [
    {
     "data": {
      "text/plain": [
       "def formula_option_put(t):\n",
       "    \"\"\"\n",
       "        S: prem_to_av\n",
       "        X: claims\n",
       "        sigma: 0.03\n",
       "        r: 0.02\n",
       "        q: 0.01\n",
       "\n",
       "    \"\"\"\n",
       "    mps = model_point_table_ext()\n",
       "    cond = mps['policy_term'] * 12 == t\n",
       "    mps = mps.loc[cond]\n",
       "\n",
       "    T = t / 12\n",
       "    S = av_at(0, 'BEF_FEE')[:, 1][cond]\n",
       "    X = (sum_assured() * pols_maturity(t))[:, 1][cond]\n",
       "    sigma = 0.03\n",
       "    r = 0.02\n",
       "    q = 0.01\n",
       "    N = stats.norm.cdf\n",
       "    e = np.exp\n",
       "\n",
       "    d1 = (np.log(S/X) + (r - q + 0.5 * sigma**2) * T) / (sigma * np.sqrt(T))\n",
       "    d2 = d1 - sigma * np.sqrt(T)\n",
       "\n",
       "    return X * e(-r*T) * N(-d2) - S * e(-q*T) * N(-d1)"
      ]
     },
     "execution_count": 10,
     "metadata": {},
     "output_type": "execute_result"
    }
   ],
   "source": [
    "proj.formula_option_put.formula"
   ]
  },
  {
   "cell_type": "markdown",
   "id": "f981d74a",
   "metadata": {},
   "source": [
    "The time value of GMAB is obtained by passing the maturity month (120) to `formula_option_put`."
   ]
  },
  {
   "cell_type": "code",
   "execution_count": 11,
   "id": "eded1656",
   "metadata": {},
   "outputs": [
    {
     "data": {
      "text/plain": [
       "point_id\n",
       "1    1.656494e+06\n",
       "dtype: float64"
      ]
     },
     "execution_count": 11,
     "metadata": {},
     "output_type": "execute_result"
    }
   ],
   "source": [
    "proj.formula_option_put(120)"
   ]
  },
  {
   "cell_type": "markdown",
   "id": "48b5b0af",
   "metadata": {},
   "source": [
    "The second approach is monte-carlo simulation with risk-neutral scenarios. We model the maintenance fees as a cashflow of fee payments made at the beginning of each month. The `maint_fee_rate` is updated so that it returns 1/12th of 1% when `has_fees` is `True`."
   ]
  },
  {
   "cell_type": "code",
   "execution_count": 12,
   "id": "c98c3f0b",
   "metadata": {},
   "outputs": [
    {
     "data": {
      "text/plain": [
       "def maint_fee_rate():\n",
       "    \"\"\"Maintenance fee per account value\n",
       "\n",
       "    The rate of maintenance fee on account value each month.\n",
       "    Set to ``0.01 / 12`` by default.\n",
       "\n",
       "    .. seealso::\n",
       "\n",
       "        * :func:`maint_fee`\n",
       "\n",
       "    \"\"\"\n",
       "    if has_fees():\n",
       "        return 0.01 / 12\n",
       "    else:\n",
       "        return 0"
      ]
     },
     "execution_count": 12,
     "metadata": {},
     "output_type": "execute_result"
    }
   ],
   "source": [
    "proj.maint_fee_rate.formula"
   ]
  },
  {
   "cell_type": "markdown",
   "id": "fb0a3757",
   "metadata": {},
   "source": [
    "Setting 2 to `sim_id` make `has_fees` return `True`."
   ]
  },
  {
   "cell_type": "code",
   "execution_count": 13,
   "id": "1ed3bfed",
   "metadata": {},
   "outputs": [
    {
     "data": {
      "text/plain": [
       "True"
      ]
     },
     "execution_count": 13,
     "metadata": {},
     "output_type": "execute_result"
    }
   ],
   "source": [
    "proj.sim_id = 2\n",
    "proj.has_fees()"
   ]
  },
  {
   "cell_type": "markdown",
   "id": "e110475b",
   "metadata": {},
   "source": [
    "A new cells named `pv_maint_fee` is defined to calculate the present value of maintenance fees. "
   ]
  },
  {
   "cell_type": "code",
   "execution_count": 14,
   "id": "03517794",
   "metadata": {},
   "outputs": [
    {
     "data": {
      "text/plain": [
       "def pv_maint_fee():\n",
       "    result = np.array(list(maint_fee(t) for t in range(max_proj_len()))).transpose()\n",
       "\n",
       "    return result @ disc_factors()[:max_proj_len()]"
      ]
     },
     "execution_count": 14,
     "metadata": {},
     "output_type": "execute_result"
    }
   ],
   "source": [
    "proj.pv_maint_fee.formula"
   ]
  },
  {
   "cell_type": "markdown",
   "id": "005adb21",
   "metadata": {},
   "source": [
    "The mean of the present value should be close to $S_{0}\\left(1−e^{-qT}\\right)$."
   ]
  },
  {
   "cell_type": "code",
   "execution_count": 15,
   "id": "03110807",
   "metadata": {},
   "outputs": [
    {
     "data": {
      "text/plain": [
       "4286265.599825707"
      ]
     },
     "execution_count": 15,
     "metadata": {},
     "output_type": "execute_result"
    }
   ],
   "source": [
    "proj.pv_maint_fee().mean()"
   ]
  },
  {
   "cell_type": "code",
   "execution_count": 16,
   "id": "715b9e49",
   "metadata": {},
   "outputs": [
    {
     "data": {
      "text/plain": [
       "4282316.188381822"
      ]
     },
     "execution_count": 16,
     "metadata": {},
     "output_type": "execute_result"
    }
   ],
   "source": [
    "S0 = proj.av_at(0, 'BEF_FEE')[1, 1]\n",
    "S0 * (1 - np.exp(-0.01 * 10))"
   ]
  },
  {
   "cell_type": "code",
   "execution_count": 17,
   "id": "38687900",
   "metadata": {},
   "outputs": [
    {
     "data": {
      "text/plain": [
       "1.0009222605875299"
      ]
     },
     "execution_count": 17,
     "metadata": {},
     "output_type": "execute_result"
    }
   ],
   "source": [
    "proj.pv_maint_fee().mean() / (S0 * (1 - np.exp(-0.01 * 10)))"
   ]
  },
  {
   "cell_type": "markdown",
   "id": "a848195d",
   "metadata": {},
   "source": [
    "Below is the TVOG calculated by the Monte-Carlo method. The result should be pretty close to the formula result above."
   ]
  },
  {
   "cell_type": "code",
   "execution_count": 18,
   "id": "09b89273",
   "metadata": {},
   "outputs": [
    {
     "data": {
      "text/plain": [
       "1648013.3849882265"
      ]
     },
     "execution_count": 18,
     "metadata": {},
     "output_type": "execute_result"
    }
   ],
   "source": [
    "proj.pv_claims_over_av('MATURITY').mean()"
   ]
  },
  {
   "cell_type": "code",
   "execution_count": 19,
   "id": "d0066bc4",
   "metadata": {},
   "outputs": [
    {
     "data": {
      "text/plain": [
       "point_id\n",
       "1    0.99488\n",
       "dtype: float64"
      ]
     },
     "execution_count": 19,
     "metadata": {},
     "output_type": "execute_result"
    }
   ],
   "source": [
    "proj.pv_claims_over_av('MATURITY').mean() / proj.formula_option_put(120)"
   ]
  },
  {
   "cell_type": "markdown",
   "id": "0b7e7357",
   "metadata": {},
   "source": [
    "## Adding mortality decrement and GMDB\n",
    "\n",
    "\n",
    "Policy decrement is ignored in `CashValue_ME_EX1`, so we now include policy decrement. We consider mortality decrement first, and add lapse decrement later. The mortality assumption we consider here is deterministic in terms of economic scenarios, so the remaining numbef of policies at maturity or at any other time before maturity should be the same number for all the risk-neutral scenarios.\n",
    "\n",
    "In addition to the policy decrement, we also take Guaranteed Minimum Death Benefit(GMDB) into consideration.\n",
    "\n",
    "\n",
    "\n",
    "<div class=\"alert alert-info\">\n",
    "\n",
    "**Note:**\n",
    "\n",
    "In the original `CashValue_ME` model has a cost of insurance(COI) charge modeled separately from the maintenance fees but the COI charge is removed in `CashValue_ME_EX1` in the [Simple Stochastic Example](savings_example1.ipynb)  for simplicty. This example continues to ignore the COI charge and assumes only the maintenace fees. \n",
    "\n",
    "</div>"
   ]
  },
  {
   "cell_type": "markdown",
   "id": "ece7041d",
   "metadata": {},
   "source": [
    "The original mortality rates in `CashValue_ME` are derived by a formula, and are lower than actual mortality rates, so the moratlity table is replaced with \n",
    "a new one. The new table contains male mortality rates taken from [the 2019 period life table for the Social Security area population in US](https://www.ssa.gov/oact/STATS/table4c6.html).\n",
    "\n",
    "\n",
    "To make GMDB more observable in comparison to GMAB, the issue age of the model point is changed to 70."
   ]
  },
  {
   "cell_type": "code",
   "execution_count": 20,
   "id": "843ac04a",
   "metadata": {},
   "outputs": [
    {
     "data": {
      "text/html": [
       "<div>\n",
       "<style scoped>\n",
       "    .dataframe tbody tr th:only-of-type {\n",
       "        vertical-align: middle;\n",
       "    }\n",
       "\n",
       "    .dataframe tbody tr th {\n",
       "        vertical-align: top;\n",
       "    }\n",
       "\n",
       "    .dataframe thead th {\n",
       "        text-align: right;\n",
       "    }\n",
       "</style>\n",
       "<table border=\"1\" class=\"dataframe\">\n",
       "  <thead>\n",
       "    <tr style=\"text-align: right;\">\n",
       "      <th></th>\n",
       "      <th>spec_id</th>\n",
       "      <th>age_at_entry</th>\n",
       "      <th>sex</th>\n",
       "      <th>policy_term</th>\n",
       "      <th>policy_count</th>\n",
       "      <th>sum_assured</th>\n",
       "      <th>duration_mth</th>\n",
       "      <th>premium_pp</th>\n",
       "      <th>av_pp_init</th>\n",
       "      <th>accum_prem_init_pp</th>\n",
       "    </tr>\n",
       "    <tr>\n",
       "      <th>point_id</th>\n",
       "      <th></th>\n",
       "      <th></th>\n",
       "      <th></th>\n",
       "      <th></th>\n",
       "      <th></th>\n",
       "      <th></th>\n",
       "      <th></th>\n",
       "      <th></th>\n",
       "      <th></th>\n",
       "      <th></th>\n",
       "    </tr>\n",
       "  </thead>\n",
       "  <tbody>\n",
       "    <tr>\n",
       "      <th>1</th>\n",
       "      <td>A</td>\n",
       "      <td>70</td>\n",
       "      <td>M</td>\n",
       "      <td>10</td>\n",
       "      <td>100</td>\n",
       "      <td>500000</td>\n",
       "      <td>0</td>\n",
       "      <td>450000</td>\n",
       "      <td>0</td>\n",
       "      <td>0</td>\n",
       "    </tr>\n",
       "  </tbody>\n",
       "</table>\n",
       "</div>"
      ],
      "text/plain": [
       "         spec_id  age_at_entry sex  policy_term  policy_count  sum_assured  \\\n",
       "point_id                                                                     \n",
       "1              A            70   M           10           100       500000   \n",
       "\n",
       "          duration_mth  premium_pp  av_pp_init  accum_prem_init_pp  \n",
       "point_id                                                            \n",
       "1                    0      450000           0                   0  "
      ]
     },
     "execution_count": 20,
     "metadata": {},
     "output_type": "execute_result"
    }
   ],
   "source": [
    "proj.model_point_table"
   ]
  },
  {
   "cell_type": "markdown",
   "id": "97c5a6ba",
   "metadata": {},
   "source": [
    "Now the mortality rates for ages from 70 to 79 range from 2.2% to 5.1%. Since the new mortality table rates do not vary by duration, all the columns in `Projection.mort_table` have the same values. "
   ]
  },
  {
   "cell_type": "code",
   "execution_count": 21,
   "id": "25ae51c1",
   "metadata": {},
   "outputs": [
    {
     "data": {
      "text/plain": [
       "Age\n",
       "70    0.022364\n",
       "71    0.024169\n",
       "72    0.026249\n",
       "73    0.028642\n",
       "74    0.031380\n",
       "75    0.034593\n",
       "76    0.038235\n",
       "77    0.042159\n",
       "78    0.046336\n",
       "79    0.050917\n",
       "Name: 0, dtype: float64"
      ]
     },
     "execution_count": 21,
     "metadata": {},
     "output_type": "execute_result"
    }
   ],
   "source": [
    "proj.mort_table['0'][70:80]"
   ]
  },
  {
   "cell_type": "markdown",
   "id": "695888ab",
   "metadata": {},
   "source": [
    "Setting 3 to `sim_id` activates morality decrement in addition to the maintenance fee deduction considered above. "
   ]
  },
  {
   "cell_type": "code",
   "execution_count": 22,
   "id": "95d84a4c",
   "metadata": {},
   "outputs": [
    {
     "data": {
      "text/plain": [
       "True"
      ]
     },
     "execution_count": 22,
     "metadata": {},
     "output_type": "execute_result"
    }
   ],
   "source": [
    "proj.sim_id = 3\n",
    "proj.has_mortality()"
   ]
  },
  {
   "cell_type": "markdown",
   "id": "59c325fc",
   "metadata": {},
   "source": [
    "You can see below that the decrement is deterministic and independent of scenarios."
   ]
  },
  {
   "cell_type": "code",
   "execution_count": 23,
   "id": "47ee088b",
   "metadata": {},
   "outputs": [
    {
     "data": {
      "text/plain": [
       "point_id  scen_id\n",
       "1         1          70.356606\n",
       "          2          70.356606\n",
       "          3          70.356606\n",
       "          4          70.356606\n",
       "          5          70.356606\n",
       "                       ...    \n",
       "          9996       70.356606\n",
       "          9997       70.356606\n",
       "          9998       70.356606\n",
       "          9999       70.356606\n",
       "          10000      70.356606\n",
       "Length: 10000, dtype: float64"
      ]
     },
     "execution_count": 23,
     "metadata": {},
     "output_type": "execute_result"
    }
   ],
   "source": [
    "proj.pols_maturity(120)"
   ]
  },
  {
   "cell_type": "markdown",
   "id": "5ee66b0c",
   "metadata": {},
   "source": [
    "The time value of GMAB is dereased from the previous result in proportion to the number of remaining policies at maturity."
   ]
  },
  {
   "cell_type": "code",
   "execution_count": 24,
   "id": "9b765b3a",
   "metadata": {},
   "outputs": [
    {
     "data": {
      "text/plain": [
       "1159486.2923001654"
      ]
     },
     "execution_count": 24,
     "metadata": {},
     "output_type": "execute_result"
    }
   ],
   "source": [
    "proj.pv_claims_over_av('MATURITY').mean()"
   ]
  },
  {
   "cell_type": "markdown",
   "id": "6ab1284e",
   "metadata": {},
   "source": [
    "The time value of GMDB is also calculated using the same cells by passing `'DEATH'` as the argument in place of `'MATURITY'`."
   ]
  },
  {
   "cell_type": "code",
   "execution_count": 25,
   "id": "4cca8183",
   "metadata": {},
   "outputs": [
    {
     "data": {
      "text/plain": [
       "833826.6659758068"
      ]
     },
     "execution_count": 25,
     "metadata": {},
     "output_type": "execute_result"
    }
   ],
   "source": [
    "proj.pv_claims_over_av('DEATH').mean()"
   ]
  },
  {
   "cell_type": "markdown",
   "id": "6b617e6b",
   "metadata": {},
   "source": [
    "For convenience, the `monte_carlo` cells is defined, which returns a table showing the time value of GMDB, GMAB, total TVOG, present value of maintenance fees and coverage ratio defined as the present value of maintenance fees divided by the total TVOG. "
   ]
  },
  {
   "cell_type": "code",
   "execution_count": 26,
   "id": "c7265c87",
   "metadata": {},
   "outputs": [
    {
     "data": {
      "text/html": [
       "<div>\n",
       "<style scoped>\n",
       "    .dataframe tbody tr th:only-of-type {\n",
       "        vertical-align: middle;\n",
       "    }\n",
       "\n",
       "    .dataframe tbody tr th {\n",
       "        vertical-align: top;\n",
       "    }\n",
       "\n",
       "    .dataframe thead th {\n",
       "        text-align: right;\n",
       "    }\n",
       "</style>\n",
       "<table border=\"1\" class=\"dataframe\">\n",
       "  <thead>\n",
       "    <tr style=\"text-align: right;\">\n",
       "      <th></th>\n",
       "      <th>GMDB</th>\n",
       "      <th>GMAB</th>\n",
       "      <th>GMxB Total</th>\n",
       "      <th>PV Fees</th>\n",
       "      <th>Coverage Ratio</th>\n",
       "    </tr>\n",
       "    <tr>\n",
       "      <th>point_id</th>\n",
       "      <th></th>\n",
       "      <th></th>\n",
       "      <th></th>\n",
       "      <th></th>\n",
       "      <th></th>\n",
       "    </tr>\n",
       "  </thead>\n",
       "  <tbody>\n",
       "    <tr>\n",
       "      <th>1</th>\n",
       "      <td>833826.665976</td>\n",
       "      <td>1.159486e+06</td>\n",
       "      <td>1.993313e+06</td>\n",
       "      <td>3.728447e+06</td>\n",
       "      <td>1.870477</td>\n",
       "    </tr>\n",
       "  </tbody>\n",
       "</table>\n",
       "</div>"
      ],
      "text/plain": [
       "                   GMDB          GMAB    GMxB Total       PV Fees  \\\n",
       "point_id                                                            \n",
       "1         833826.665976  1.159486e+06  1.993313e+06  3.728447e+06   \n",
       "\n",
       "          Coverage Ratio  \n",
       "point_id                  \n",
       "1               1.870477  "
      ]
     },
     "execution_count": 26,
     "metadata": {},
     "output_type": "execute_result"
    }
   ],
   "source": [
    "proj.monte_carlo()"
   ]
  },
  {
   "cell_type": "markdown",
   "id": "1542b8cc",
   "metadata": {},
   "source": [
    "## Adding lapse decrement\n",
    "\n",
    "We also consider lapse decrement, which is ignored in `CashValue_ME_EX1`. "
   ]
  },
  {
   "cell_type": "code",
   "execution_count": 27,
   "id": "a059db31",
   "metadata": {},
   "outputs": [
    {
     "data": {
      "text/plain": [
       "True"
      ]
     },
     "execution_count": 27,
     "metadata": {},
     "output_type": "execute_result"
    }
   ],
   "source": [
    "proj.sim_id = 4\n",
    "proj.has_lapse()"
   ]
  },
  {
   "cell_type": "markdown",
   "id": "35e43659",
   "metadata": {},
   "source": [
    "The original lapse rate assumption in `CashValue_ME` is altered from 2% decrease per year to 1% decrease to make it more gradual. The dynamic lapse part in the formula is discussed later."
   ]
  },
  {
   "cell_type": "code",
   "execution_count": 28,
   "id": "6e6a7fa1",
   "metadata": {},
   "outputs": [
    {
     "data": {
      "text/plain": [
       "def lapse_rate(t):\n",
       "    \"\"\"Lapse rate\n",
       "\n",
       "    By default, the lapse rate assumption is defined by duration as::\n",
       "\n",
       "        max(0.1 - 0.01 * duration(t), 0.02)\n",
       "\n",
       "    .. seealso::\n",
       "\n",
       "        :func:`duration`\n",
       "\n",
       "    \"\"\"\n",
       "    if has_lapse():\n",
       "\n",
       "        if is_lapse_dynamic():\n",
       "            factor = csv_pp(t) / sum_assured()\n",
       "        else:\n",
       "            factor = 1\n",
       "\n",
       "        return factor * np.maximum(0.1 - 0.01 * duration(t), 0.02)\n",
       "    else:\n",
       "        return pd.Series(0, index=model_point().index)"
      ]
     },
     "execution_count": 28,
     "metadata": {},
     "output_type": "execute_result"
    }
   ],
   "source": [
    "proj.lapse_rate.formula"
   ]
  },
  {
   "cell_type": "markdown",
   "id": "40b2f7fb",
   "metadata": {},
   "source": [
    "The graph below shows lapse rates by duration. The assumption is deterministic and identical under all the scenarios."
   ]
  },
  {
   "cell_type": "code",
   "execution_count": 29,
   "id": "a346ca0b",
   "metadata": {},
   "outputs": [
    {
     "data": {
      "text/plain": [
       "<Axes: >"
      ]
     },
     "execution_count": 29,
     "metadata": {},
     "output_type": "execute_result"
    },
    {
     "data": {
      "image/png": "[encoded data removed]",
      "text/plain": [
       "<Figure size 640x480 with 1 Axes>"
      ]
     },
     "metadata": {},
     "output_type": "display_data"
    }
   ],
   "source": [
    "pd.Series(\n",
    "    proj.lapse_rate(t).loc[1][1] for t in range(120)\n",
    ").plot.line(legend=False, grid=True)"
   ]
  },
  {
   "cell_type": "markdown",
   "id": "e53765f0",
   "metadata": {},
   "source": [
    "As a result, the number of policies at any point during the policy term is also the same for all the scenarios. "
   ]
  },
  {
   "cell_type": "code",
   "execution_count": 30,
   "id": "ae07e967",
   "metadata": {},
   "outputs": [
    {
     "data": {
      "text/plain": [
       "<Axes: >"
      ]
     },
     "execution_count": 30,
     "metadata": {},
     "output_type": "execute_result"
    },
    {
     "data": {
      "image/png": "[encoded data removed]",
      "text/plain": [
       "<Figure size 640x480 with 1 Axes>"
      ]
     },
     "metadata": {},
     "output_type": "display_data"
    }
   ],
   "source": [
    "pd.Series(\n",
    "    proj.pols_if_at(t, 'BEF_DECR').loc[1][1] for t in range(120)\n",
    ").plot.line(legend=False, grid=True)"
   ]
  },
  {
   "cell_type": "markdown",
   "id": "c30d24f5",
   "metadata": {},
   "source": [
    "Because the lapse rates are deterministic, the number of lapsed policies during any period and the remaining number of remaining policies do not vary by economic scenarios."
   ]
  },
  {
   "cell_type": "code",
   "execution_count": 31,
   "id": "05c65cac",
   "metadata": {},
   "outputs": [
    {
     "data": {
      "text/plain": [
       "point_id  scen_id\n",
       "1         1          39.373692\n",
       "          2          39.373692\n",
       "          3          39.373692\n",
       "          4          39.373692\n",
       "          5          39.373692\n",
       "                       ...    \n",
       "          9996       39.373692\n",
       "          9997       39.373692\n",
       "          9998       39.373692\n",
       "          9999       39.373692\n",
       "          10000      39.373692\n",
       "Length: 10000, dtype: float64"
      ]
     },
     "execution_count": 31,
     "metadata": {},
     "output_type": "execute_result"
    }
   ],
   "source": [
    "proj.pols_maturity(120)"
   ]
  },
  {
   "cell_type": "markdown",
   "id": "3f02509c",
   "metadata": {},
   "source": [
    "As with the case for mortality decrement, time value of GMAB is proportional to the number of remaining policy at maturity, and its per policy value is the same as the previous result. "
   ]
  },
  {
   "cell_type": "code",
   "execution_count": 32,
   "id": "821c54bc",
   "metadata": {},
   "outputs": [
    {
     "data": {
      "text/html": [
       "<div>\n",
       "<style scoped>\n",
       "    .dataframe tbody tr th:only-of-type {\n",
       "        vertical-align: middle;\n",
       "    }\n",
       "\n",
       "    .dataframe tbody tr th {\n",
       "        vertical-align: top;\n",
       "    }\n",
       "\n",
       "    .dataframe thead th {\n",
       "        text-align: right;\n",
       "    }\n",
       "</style>\n",
       "<table border=\"1\" class=\"dataframe\">\n",
       "  <thead>\n",
       "    <tr style=\"text-align: right;\">\n",
       "      <th></th>\n",
       "      <th>GMDB</th>\n",
       "      <th>GMAB</th>\n",
       "      <th>GMxB Total</th>\n",
       "      <th>PV Fees</th>\n",
       "      <th>Coverage Ratio</th>\n",
       "    </tr>\n",
       "    <tr>\n",
       "      <th>point_id</th>\n",
       "      <th></th>\n",
       "      <th></th>\n",
       "      <th></th>\n",
       "      <th></th>\n",
       "      <th></th>\n",
       "    </tr>\n",
       "  </thead>\n",
       "  <tbody>\n",
       "    <tr>\n",
       "      <th>1</th>\n",
       "      <td>600183.568334</td>\n",
       "      <td>648883.71364</td>\n",
       "      <td>1.249067e+06</td>\n",
       "      <td>2.668424e+06</td>\n",
       "      <td>2.136334</td>\n",
       "    </tr>\n",
       "  </tbody>\n",
       "</table>\n",
       "</div>"
      ],
      "text/plain": [
       "                   GMDB          GMAB    GMxB Total       PV Fees  \\\n",
       "point_id                                                            \n",
       "1         600183.568334  648883.71364  1.249067e+06  2.668424e+06   \n",
       "\n",
       "          Coverage Ratio  \n",
       "point_id                  \n",
       "1               2.136334  "
      ]
     },
     "execution_count": 32,
     "metadata": {},
     "output_type": "execute_result"
    }
   ],
   "source": [
    "proj.monte_carlo()"
   ]
  },
  {
   "cell_type": "markdown",
   "id": "1f345eab",
   "metadata": {},
   "source": [
    "## Dynamic lapse assumtpions\n",
    "\n",
    "Most variable annuity models include dynamic lapse assumptions. A dynamic lapse assumption is used to reflect such policy holder's behaviour that they are more likely to terminate their policies when their account values are larger in comparison to the guaranteed amounts of their policies than they are when the account values are smaller than the guaranteed amounts.\n",
    "This behaviour is intuitively undestandable and economically rational because the value of guarantee is smaller when the account value is high and vice versa, given the fees are deducted from the account values at a constan rate."
   ]
  },
  {
   "cell_type": "code",
   "execution_count": 33,
   "id": "805c045b",
   "metadata": {},
   "outputs": [
    {
     "data": {
      "text/plain": [
       "True"
      ]
     },
     "execution_count": 33,
     "metadata": {},
     "output_type": "execute_result"
    }
   ],
   "source": [
    "proj.sim_id = 5\n",
    "proj.is_lapse_dynamic()"
   ]
  },
  {
   "cell_type": "markdown",
   "id": "c5e397b9",
   "metadata": {},
   "source": [
    "Here we define In-The-Moneyness(ITM) as cash value per policy divided by the guaranteed amount, which represents a factor that\n",
    "the dynamic lapse is driven by. Setting up dynamic lapse assumption would take more effort in reality, but here in this example we simply define the dynamic rapse rate as ITM time base deterministic lapse rate."
   ]
  },
  {
   "cell_type": "code",
   "execution_count": 34,
   "id": "c6007db0",
   "metadata": {},
   "outputs": [
    {
     "data": {
      "text/plain": [
       "def lapse_rate(t):\n",
       "    \"\"\"Lapse rate\n",
       "\n",
       "    By default, the lapse rate assumption is defined by duration as::\n",
       "\n",
       "        max(0.1 - 0.01 * duration(t), 0.02)\n",
       "\n",
       "    .. seealso::\n",
       "\n",
       "        :func:`duration`\n",
       "\n",
       "    \"\"\"\n",
       "    if has_lapse():\n",
       "\n",
       "        if is_lapse_dynamic():\n",
       "            factor = csv_pp(t) / sum_assured()\n",
       "        else:\n",
       "            factor = 1\n",
       "\n",
       "        return factor * np.maximum(0.1 - 0.01 * duration(t), 0.02)\n",
       "    else:\n",
       "        return pd.Series(0, index=model_point().index)"
      ]
     },
     "execution_count": 34,
     "metadata": {},
     "output_type": "execute_result"
    }
   ],
   "source": [
    "proj.lapse_rate.formula"
   ]
  },
  {
   "cell_type": "markdown",
   "id": "3a5291c7",
   "metadata": {},
   "source": [
    "The graph below shows lapse rates by duration under the first 100 scenarios. The second graph shows the number of policies under the same scenarios. Now the policy decrement is dependent on economic scenarios. "
   ]
  },
  {
   "cell_type": "code",
   "execution_count": 35,
   "id": "f94c2a3e",
   "metadata": {},
   "outputs": [
    {
     "data": {
      "text/plain": [
       "<Axes: >"
      ]
     },
     "execution_count": 35,
     "metadata": {},
     "output_type": "execute_result"
    },
    {
     "data": {
      "image/png": "[encoded data removed]",
      "text/plain": [
       "<Figure size 640x480 with 1 Axes>"
      ]
     },
     "metadata": {},
     "output_type": "display_data"
    }
   ],
   "source": [
    "df = pd.DataFrame({t: proj.lapse_rate(t).loc[1][:100] for t in range(120)})\n",
    "df.transpose().plot.line(legend=False, grid=True)"
   ]
  },
  {
   "cell_type": "code",
   "execution_count": 36,
   "id": "7c8fe7d1",
   "metadata": {},
   "outputs": [
    {
     "data": {
      "text/plain": [
       "<Axes: >"
      ]
     },
     "execution_count": 36,
     "metadata": {},
     "output_type": "execute_result"
    },
    {
     "data": {
      "image/png": "[encoded data removed]",
      "text/plain": [
       "<Figure size 640x480 with 1 Axes>"
      ]
     },
     "metadata": {},
     "output_type": "display_data"
    }
   ],
   "source": [
    "df = pd.DataFrame({t: proj.pols_if_at(t, 'BEF_DECR').loc[1][:100] for t in range(120)})\n",
    "df.transpose().plot.line(legend=False, grid=True)"
   ]
  },
  {
   "cell_type": "markdown",
   "id": "35f55206",
   "metadata": {},
   "source": [
    "The time value of GMDB and GMAB becomes larger than the previous results because of the policyholder behaviour to take advantage of the guarantees. "
   ]
  },
  {
   "cell_type": "code",
   "execution_count": 37,
   "id": "6cf95ff3",
   "metadata": {},
   "outputs": [
    {
     "data": {
      "text/html": [
       "<div>\n",
       "<style scoped>\n",
       "    .dataframe tbody tr th:only-of-type {\n",
       "        vertical-align: middle;\n",
       "    }\n",
       "\n",
       "    .dataframe tbody tr th {\n",
       "        vertical-align: top;\n",
       "    }\n",
       "\n",
       "    .dataframe thead th {\n",
       "        text-align: right;\n",
       "    }\n",
       "</style>\n",
       "<table border=\"1\" class=\"dataframe\">\n",
       "  <thead>\n",
       "    <tr style=\"text-align: right;\">\n",
       "      <th></th>\n",
       "      <th>GMDB</th>\n",
       "      <th>GMAB</th>\n",
       "      <th>GMxB Total</th>\n",
       "      <th>PV Fees</th>\n",
       "      <th>Coverage Ratio</th>\n",
       "    </tr>\n",
       "    <tr>\n",
       "      <th>point_id</th>\n",
       "      <th></th>\n",
       "      <th></th>\n",
       "      <th></th>\n",
       "      <th></th>\n",
       "      <th></th>\n",
       "    </tr>\n",
       "  </thead>\n",
       "  <tbody>\n",
       "    <tr>\n",
       "      <th>1</th>\n",
       "      <td>620590.818109</td>\n",
       "      <td>690709.245393</td>\n",
       "      <td>1.311300e+06</td>\n",
       "      <td>2.737674e+06</td>\n",
       "      <td>2.087755</td>\n",
       "    </tr>\n",
       "  </tbody>\n",
       "</table>\n",
       "</div>"
      ],
      "text/plain": [
       "                   GMDB           GMAB    GMxB Total       PV Fees  \\\n",
       "point_id                                                             \n",
       "1         620590.818109  690709.245393  1.311300e+06  2.737674e+06   \n",
       "\n",
       "          Coverage Ratio  \n",
       "point_id                  \n",
       "1               2.087755  "
      ]
     },
     "execution_count": 37,
     "metadata": {},
     "output_type": "execute_result"
    }
   ],
   "source": [
    "proj.monte_carlo()"
   ]
  },
  {
   "cell_type": "markdown",
   "id": "12c239a0",
   "metadata": {},
   "source": [
    "## Summary result\n",
    "\n",
    "The `Projection` space is parameterized with `sim_id`, so instead of setting a value to `Projection.sim_id`, you can get a space result for the value by a subscription (or call) operation. For example, `Projection[1]` yields a space derived from `Projection` and 1 is set to `sim_id` in that space. `Projection[2]` yields a space derived from `Projection` and 2 is set to `sim_id` in that space, and so on. These spaces are called item spaces and dynamically created by the subscription operations. The have the same definitions of cells and references as the definitions in `Projection`, except for `sim_id`.\n",
    "Since `Projection` is parameterized with `sim_id`, the values passed in the subscriptions are set to `sim_id` in the dynamic spaces.\n",
    "\n",
    "The items spaces are useful when you want results for different `sim_id` values at the same time, instead of one result at a time. The `result` cells in the `Summary` space make use of this feature, and it summarizes the results of `monte_carlo` cells of all the 5 `sim_id`."
   ]
  },
  {
   "cell_type": "code",
   "execution_count": 38,
   "id": "6ed18af8",
   "metadata": {},
   "outputs": [
    {
     "data": {
      "text/plain": [
       "('sim_id',)"
      ]
     },
     "execution_count": 38,
     "metadata": {},
     "output_type": "execute_result"
    }
   ],
   "source": [
    "proj.parameters"
   ]
  },
  {
   "cell_type": "code",
   "execution_count": 39,
   "id": "6d008bf8",
   "metadata": {},
   "outputs": [
    {
     "data": {
      "text/plain": [
       "def result():\n",
       "\n",
       "    data = {sim: Proj[sim].monte_carlo() for sim in range(1, 6)}\n",
       "    return pd.concat(data, names=[\"sim_id\", \"point_id\"])"
      ]
     },
     "execution_count": 39,
     "metadata": {},
     "output_type": "execute_result"
    }
   ],
   "source": [
    "model.Summary.result.formula"
   ]
  },
  {
   "cell_type": "code",
   "execution_count": 40,
   "id": "c20ae2fa",
   "metadata": {},
   "outputs": [
    {
     "data": {
      "text/html": [
       "<div>\n",
       "<style scoped>\n",
       "    .dataframe tbody tr th:only-of-type {\n",
       "        vertical-align: middle;\n",
       "    }\n",
       "\n",
       "    .dataframe tbody tr th {\n",
       "        vertical-align: top;\n",
       "    }\n",
       "\n",
       "    .dataframe thead th {\n",
       "        text-align: right;\n",
       "    }\n",
       "</style>\n",
       "<table border=\"1\" class=\"dataframe\">\n",
       "  <thead>\n",
       "    <tr style=\"text-align: right;\">\n",
       "      <th></th>\n",
       "      <th></th>\n",
       "      <th>GMDB</th>\n",
       "      <th>GMAB</th>\n",
       "      <th>GMxB Total</th>\n",
       "      <th>PV Fees</th>\n",
       "      <th>Coverage Ratio</th>\n",
       "    </tr>\n",
       "    <tr>\n",
       "      <th>sim_id</th>\n",
       "      <th>point_id</th>\n",
       "      <th></th>\n",
       "      <th></th>\n",
       "      <th></th>\n",
       "      <th></th>\n",
       "      <th></th>\n",
       "    </tr>\n",
       "  </thead>\n",
       "  <tbody>\n",
       "    <tr>\n",
       "      <th>1</th>\n",
       "      <th>1</th>\n",
       "      <td>0.000000</td>\n",
       "      <td>3.338084e+05</td>\n",
       "      <td>3.338084e+05</td>\n",
       "      <td>0.000000e+00</td>\n",
       "      <td>0.000000</td>\n",
       "    </tr>\n",
       "    <tr>\n",
       "      <th>2</th>\n",
       "      <th>1</th>\n",
       "      <td>0.000000</td>\n",
       "      <td>1.648013e+06</td>\n",
       "      <td>1.648013e+06</td>\n",
       "      <td>4.286266e+06</td>\n",
       "      <td>2.600868</td>\n",
       "    </tr>\n",
       "    <tr>\n",
       "      <th>3</th>\n",
       "      <th>1</th>\n",
       "      <td>833826.665976</td>\n",
       "      <td>1.159486e+06</td>\n",
       "      <td>1.993313e+06</td>\n",
       "      <td>3.728447e+06</td>\n",
       "      <td>1.870477</td>\n",
       "    </tr>\n",
       "    <tr>\n",
       "      <th>4</th>\n",
       "      <th>1</th>\n",
       "      <td>600183.568334</td>\n",
       "      <td>6.488837e+05</td>\n",
       "      <td>1.249067e+06</td>\n",
       "      <td>2.668424e+06</td>\n",
       "      <td>2.136334</td>\n",
       "    </tr>\n",
       "    <tr>\n",
       "      <th>5</th>\n",
       "      <th>1</th>\n",
       "      <td>620590.818109</td>\n",
       "      <td>6.907092e+05</td>\n",
       "      <td>1.311300e+06</td>\n",
       "      <td>2.737674e+06</td>\n",
       "      <td>2.087755</td>\n",
       "    </tr>\n",
       "  </tbody>\n",
       "</table>\n",
       "</div>"
      ],
      "text/plain": [
       "                          GMDB          GMAB    GMxB Total       PV Fees  \\\n",
       "sim_id point_id                                                            \n",
       "1      1              0.000000  3.338084e+05  3.338084e+05  0.000000e+00   \n",
       "2      1              0.000000  1.648013e+06  1.648013e+06  4.286266e+06   \n",
       "3      1         833826.665976  1.159486e+06  1.993313e+06  3.728447e+06   \n",
       "4      1         600183.568334  6.488837e+05  1.249067e+06  2.668424e+06   \n",
       "5      1         620590.818109  6.907092e+05  1.311300e+06  2.737674e+06   \n",
       "\n",
       "                 Coverage Ratio  \n",
       "sim_id point_id                  \n",
       "1      1               0.000000  \n",
       "2      1               2.600868  \n",
       "3      1               1.870477  \n",
       "4      1               2.136334  \n",
       "5      1               2.087755  "
      ]
     },
     "execution_count": 40,
     "metadata": {},
     "output_type": "execute_result"
    }
   ],
   "source": [
    "model.Summary.result()"
   ]
  },
  {
   "cell_type": "code",
   "execution_count": 41,
   "id": "282dca76",
   "metadata": {},
   "outputs": [],
   "source": [
    "model.clear_all()\n",
    "model.close()"
   ]
  }
 ],
 "metadata": {
  "kernelspec": {
   "display_name": "Python 3 (ipykernel)",
   "language": "python",
   "name": "python3"
  },
  "language_info": {
   "codemirror_mode": {
    "name": "ipython",
    "version": 3
   },
   "file_extension": ".py",
   "mimetype": "text/x-python",
   "name": "python",
   "nbconvert_exporter": "python",
   "pygments_lexer": "ipython3",
   "version": "3.10.13"
  }
 },
 "nbformat": 4,
 "nbformat_minor": 5
}
