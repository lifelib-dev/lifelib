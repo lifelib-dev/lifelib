{
 "cells": [
  {
   "cell_type": "markdown",
   "id": "9400df98",
   "metadata": {},
   "source": [
    "# 4. Profiling and Optimizing the Model\n",
    "\n",
    "*Last Update: 19 August 2023*\n",
    "\n",
    "This notebook demonstrates how to profile a modelx model and subsequently optimize it by using `CashValue_ME_EX1` as an example. The optimized model, named `CashValue_ME_EX4`, is included in the `savings` library. It is approximately 3 to 4 times faster than `CashValue_ME_EX1`, though performance may vary depending on the specific hardware environment.\n",
    "\n",
    "This approach to profiling and optimization is not exclusive to this model; it can be applied to any models in lifelib that use modelx and heavily depend on pandas. The profiling process is carried out through the following steps:\n",
    "\n",
    "\n",
    "1. **Measuring run time:** Use the `timeit` standard library to measure the run time of `CashValue_ME_EX1`.\n",
    "   \n",
    "2. **Profiling the Model:** Utilize the `start_stacktrace`, `get_stacktrace`, and `stop_stacktrace` functions of modelx to create a profile of the model.\n",
    "   \n",
    "3. **Analyzing Profiling Results:** Review the output to identify which cells are consuming the most time.\n",
    "\n",
    "In our example, we will find that the most time-consuming cells are those heavily relying on pandas operations. This will lead us to the following optimization strategy:\n",
    "\n",
    "- **Replace Pandas with Numpy:** We will concentrate on replacing pandas DataFrames and Series with numpy arrays to avoid certain time-consuming pandas operations.\n",
    "\n",
    "It's important to recognize that these optimizations will come with trade-offs:\n",
    "\n",
    "- **Readability:** Switching from pandas objects to numpy arrays may reduce the data's readability, as pandas objects often provide more descriptive indexes than integer-indexed numpy arrays.\n",
    "\n",
    "- **Functionality:** While pandas offers more complex operations on tabular data, the decision between using numpy for speed or pandas for ease of use will be a choice that needs careful consideration.\n",
    "\n",
    "Ultimately, these insights and optimization methods will guide us toward a model that balances performance with functionality, based on specific project needs."
   ]
  },
  {
   "cell_type": "markdown",
   "id": "3cd25a50",
   "metadata": {},
   "source": [
    "Click the badge below to run this notebook online on Google Colab. You need a Google account and need to be logged in to it to run this notebook on Google Colab.\n",
    "[![Run on Google Colab](https://colab.research.google.com/assets/colab-badge.svg)](https://colab.research.google.com/github/lifelib-dev/lifelib/blob/current/lifelib/libraries/savings/savings_example4.ipynb)\n",
    "\n",
    "\n",
    "The next code cell below is relevant only when you run this notebook on Google Colab. It installs lifelib and creates a copy of the library for this notebook."
   ]
  },
  {
   "cell_type": "code",
   "execution_count": 1,
   "id": "d4fa30b8",
   "metadata": {},
   "outputs": [],
   "source": [
    "import sys, os\n",
    "\n",
    "if 'google.colab' in sys.modules:\n",
    "    lib = 'savings'; lib_dir = '/content/'+ lib\n",
    "    if not os.path.exists(lib_dir):\n",
    "        !pip install lifelib\n",
    "        import lifelib; lifelib.create(lib, lib_dir)\n",
    "        \n",
    "    %cd $lib_dir"
   ]
  },
  {
   "cell_type": "markdown",
   "id": "2330e5ee",
   "metadata": {},
   "source": [
    "## Measuring the runtime of the model\n",
    "\n",
    "The code below loads `CashValue_ME_EX1`, assigns it to `ex1`."
   ]
  },
  {
   "cell_type": "code",
   "execution_count": 2,
   "id": "6ad58376",
   "metadata": {},
   "outputs": [],
   "source": [
    "import timeit\n",
    "import pandas as pd\n",
    "import modelx as mx"
   ]
  },
  {
   "cell_type": "code",
   "execution_count": 3,
   "id": "a1653a3f",
   "metadata": {},
   "outputs": [],
   "source": [
    "ex1 = mx.read_model('CashValue_ME_EX1') "
   ]
  },
  {
   "cell_type": "markdown",
   "id": "987ed9ef",
   "metadata": {},
   "source": [
    "In the default configuration of `CashValue_ME_EX1`, we have it set up for 1 model point across 10,000 scenarios. This means the computational demand is equivalent to running the calculations for 10,000 model points in just one scenario.\n",
    "\n",
    "The default model point is identified by the product spec id (`spec_id`) `A`, which doesn't include any surrender charge. However, for the purpose of this example, we're interested in observing how surrender charge rates are determined based on different product specs. So, we'll be adjusting the model point table to refer to a more diverse set of model points with varying product specs."
   ]
  },
  {
   "cell_type": "code",
   "execution_count": 4,
   "id": "3065fd30",
   "metadata": {},
   "outputs": [
    {
     "data": {
      "text/html": [
       "<div>\n",
       "<style scoped>\n",
       "    .dataframe tbody tr th:only-of-type {\n",
       "        vertical-align: middle;\n",
       "    }\n",
       "\n",
       "    .dataframe tbody tr th {\n",
       "        vertical-align: top;\n",
       "    }\n",
       "\n",
       "    .dataframe thead th {\n",
       "        text-align: right;\n",
       "    }\n",
       "</style>\n",
       "<table border=\"1\" class=\"dataframe\">\n",
       "  <thead>\n",
       "    <tr style=\"text-align: right;\">\n",
       "      <th></th>\n",
       "      <th>spec_id</th>\n",
       "      <th>age_at_entry</th>\n",
       "      <th>sex</th>\n",
       "      <th>policy_term</th>\n",
       "      <th>policy_count</th>\n",
       "      <th>sum_assured</th>\n",
       "      <th>duration_mth</th>\n",
       "      <th>premium_pp</th>\n",
       "      <th>av_pp_init</th>\n",
       "      <th>accum_prem_init_pp</th>\n",
       "    </tr>\n",
       "    <tr>\n",
       "      <th>point_id</th>\n",
       "      <th></th>\n",
       "      <th></th>\n",
       "      <th></th>\n",
       "      <th></th>\n",
       "      <th></th>\n",
       "      <th></th>\n",
       "      <th></th>\n",
       "      <th></th>\n",
       "      <th></th>\n",
       "      <th></th>\n",
       "    </tr>\n",
       "  </thead>\n",
       "  <tbody>\n",
       "    <tr>\n",
       "      <th>1</th>\n",
       "      <td>A</td>\n",
       "      <td>20</td>\n",
       "      <td>M</td>\n",
       "      <td>10</td>\n",
       "      <td>100</td>\n",
       "      <td>500000</td>\n",
       "      <td>0</td>\n",
       "      <td>500000</td>\n",
       "      <td>0</td>\n",
       "      <td>0</td>\n",
       "    </tr>\n",
       "    <tr>\n",
       "      <th>2</th>\n",
       "      <td>B</td>\n",
       "      <td>20</td>\n",
       "      <td>M</td>\n",
       "      <td>10</td>\n",
       "      <td>100</td>\n",
       "      <td>500000</td>\n",
       "      <td>0</td>\n",
       "      <td>475000</td>\n",
       "      <td>0</td>\n",
       "      <td>0</td>\n",
       "    </tr>\n",
       "    <tr>\n",
       "      <th>3</th>\n",
       "      <td>C</td>\n",
       "      <td>20</td>\n",
       "      <td>M</td>\n",
       "      <td>10</td>\n",
       "      <td>100</td>\n",
       "      <td>500000</td>\n",
       "      <td>0</td>\n",
       "      <td>450000</td>\n",
       "      <td>0</td>\n",
       "      <td>0</td>\n",
       "    </tr>\n",
       "    <tr>\n",
       "      <th>4</th>\n",
       "      <td>D</td>\n",
       "      <td>20</td>\n",
       "      <td>M</td>\n",
       "      <td>10</td>\n",
       "      <td>100</td>\n",
       "      <td>500000</td>\n",
       "      <td>0</td>\n",
       "      <td>425000</td>\n",
       "      <td>0</td>\n",
       "      <td>0</td>\n",
       "    </tr>\n",
       "    <tr>\n",
       "      <th>5</th>\n",
       "      <td>A</td>\n",
       "      <td>20</td>\n",
       "      <td>M</td>\n",
       "      <td>10</td>\n",
       "      <td>100</td>\n",
       "      <td>500000</td>\n",
       "      <td>0</td>\n",
       "      <td>400000</td>\n",
       "      <td>0</td>\n",
       "      <td>0</td>\n",
       "    </tr>\n",
       "    <tr>\n",
       "      <th>6</th>\n",
       "      <td>B</td>\n",
       "      <td>20</td>\n",
       "      <td>M</td>\n",
       "      <td>10</td>\n",
       "      <td>100</td>\n",
       "      <td>500000</td>\n",
       "      <td>0</td>\n",
       "      <td>375000</td>\n",
       "      <td>0</td>\n",
       "      <td>0</td>\n",
       "    </tr>\n",
       "    <tr>\n",
       "      <th>7</th>\n",
       "      <td>C</td>\n",
       "      <td>20</td>\n",
       "      <td>M</td>\n",
       "      <td>10</td>\n",
       "      <td>100</td>\n",
       "      <td>500000</td>\n",
       "      <td>0</td>\n",
       "      <td>350000</td>\n",
       "      <td>0</td>\n",
       "      <td>0</td>\n",
       "    </tr>\n",
       "    <tr>\n",
       "      <th>8</th>\n",
       "      <td>D</td>\n",
       "      <td>20</td>\n",
       "      <td>M</td>\n",
       "      <td>10</td>\n",
       "      <td>100</td>\n",
       "      <td>500000</td>\n",
       "      <td>0</td>\n",
       "      <td>325000</td>\n",
       "      <td>0</td>\n",
       "      <td>0</td>\n",
       "    </tr>\n",
       "    <tr>\n",
       "      <th>9</th>\n",
       "      <td>A</td>\n",
       "      <td>20</td>\n",
       "      <td>M</td>\n",
       "      <td>10</td>\n",
       "      <td>100</td>\n",
       "      <td>500000</td>\n",
       "      <td>0</td>\n",
       "      <td>300000</td>\n",
       "      <td>0</td>\n",
       "      <td>0</td>\n",
       "    </tr>\n",
       "  </tbody>\n",
       "</table>\n",
       "</div>"
      ],
      "text/plain": [
       "         spec_id  age_at_entry sex  policy_term  policy_count  sum_assured  \\\n",
       "point_id                                                                     \n",
       "1              A            20   M           10           100       500000   \n",
       "2              B            20   M           10           100       500000   \n",
       "3              C            20   M           10           100       500000   \n",
       "4              D            20   M           10           100       500000   \n",
       "5              A            20   M           10           100       500000   \n",
       "6              B            20   M           10           100       500000   \n",
       "7              C            20   M           10           100       500000   \n",
       "8              D            20   M           10           100       500000   \n",
       "9              A            20   M           10           100       500000   \n",
       "\n",
       "          duration_mth  premium_pp  av_pp_init  accum_prem_init_pp  \n",
       "point_id                                                            \n",
       "1                    0      500000           0                   0  \n",
       "2                    0      475000           0                   0  \n",
       "3                    0      450000           0                   0  \n",
       "4                    0      425000           0                   0  \n",
       "5                    0      400000           0                   0  \n",
       "6                    0      375000           0                   0  \n",
       "7                    0      350000           0                   0  \n",
       "8                    0      325000           0                   0  \n",
       "9                    0      300000           0                   0  "
      ]
     },
     "execution_count": 4,
     "metadata": {},
     "output_type": "execute_result"
    }
   ],
   "source": [
    "ex1.Projection.model_point_table = ex1.Projection.model_point_moneyness  # Set multiple model points\n",
    "ex1.Projection.model_point_table['spec_id'] = ['A', 'B', 'C', 'D', 'A', 'B', 'C', 'D', 'A'] # Set various spec IDs\n",
    "ex1.Projection.model_point_moneyness"
   ]
  },
  {
   "cell_type": "markdown",
   "id": "d6d06de8",
   "metadata": {},
   "source": [
    "The product specs by `spec_id` are defined in `product_spec_table`. The `is_wl` column indicates whether each type is whole life or not. \n",
    "To save run time and memory, let's set `is_wl` to `False` for all the specs."
   ]
  },
  {
   "cell_type": "code",
   "execution_count": 5,
   "id": "d5eb4181",
   "metadata": {},
   "outputs": [
    {
     "data": {
      "text/html": [
       "<div>\n",
       "<style scoped>\n",
       "    .dataframe tbody tr th:only-of-type {\n",
       "        vertical-align: middle;\n",
       "    }\n",
       "\n",
       "    .dataframe tbody tr th {\n",
       "        vertical-align: top;\n",
       "    }\n",
       "\n",
       "    .dataframe thead th {\n",
       "        text-align: right;\n",
       "    }\n",
       "</style>\n",
       "<table border=\"1\" class=\"dataframe\">\n",
       "  <thead>\n",
       "    <tr style=\"text-align: right;\">\n",
       "      <th></th>\n",
       "      <th>premium_type</th>\n",
       "      <th>has_surr_charge</th>\n",
       "      <th>surr_charge_id</th>\n",
       "      <th>load_prem_rate</th>\n",
       "      <th>is_wl</th>\n",
       "    </tr>\n",
       "    <tr>\n",
       "      <th>spec_id</th>\n",
       "      <th></th>\n",
       "      <th></th>\n",
       "      <th></th>\n",
       "      <th></th>\n",
       "      <th></th>\n",
       "    </tr>\n",
       "  </thead>\n",
       "  <tbody>\n",
       "    <tr>\n",
       "      <th>A</th>\n",
       "      <td>SINGLE</td>\n",
       "      <td>False</td>\n",
       "      <td>NaN</td>\n",
       "      <td>0.00</td>\n",
       "      <td>False</td>\n",
       "    </tr>\n",
       "    <tr>\n",
       "      <th>B</th>\n",
       "      <td>SINGLE</td>\n",
       "      <td>True</td>\n",
       "      <td>type_1</td>\n",
       "      <td>0.00</td>\n",
       "      <td>False</td>\n",
       "    </tr>\n",
       "    <tr>\n",
       "      <th>C</th>\n",
       "      <td>LEVEL</td>\n",
       "      <td>False</td>\n",
       "      <td>NaN</td>\n",
       "      <td>0.10</td>\n",
       "      <td>False</td>\n",
       "    </tr>\n",
       "    <tr>\n",
       "      <th>D</th>\n",
       "      <td>LEVEL</td>\n",
       "      <td>True</td>\n",
       "      <td>type_3</td>\n",
       "      <td>0.05</td>\n",
       "      <td>False</td>\n",
       "    </tr>\n",
       "  </tbody>\n",
       "</table>\n",
       "</div>"
      ],
      "text/plain": [
       "        premium_type  has_surr_charge surr_charge_id  load_prem_rate  is_wl\n",
       "spec_id                                                                    \n",
       "A             SINGLE            False            NaN            0.00  False\n",
       "B             SINGLE             True         type_1            0.00  False\n",
       "C              LEVEL            False            NaN            0.10  False\n",
       "D              LEVEL             True         type_3            0.05  False"
      ]
     },
     "execution_count": 5,
     "metadata": {},
     "output_type": "execute_result"
    }
   ],
   "source": [
    "ex1.Projection.product_spec_table['is_wl'] = False\n",
    "ex1.Projection.product_spec_table"
   ]
  },
  {
   "cell_type": "markdown",
   "id": "ed399067",
   "metadata": {},
   "source": [
    "For the same reason, we reduce the number of scenarios from 10,000 to 1000."
   ]
  },
  {
   "cell_type": "code",
   "execution_count": 6,
   "id": "b40dd116",
   "metadata": {},
   "outputs": [],
   "source": [
    "ex1.Projection.scen_size = 1000"
   ]
  },
  {
   "cell_type": "markdown",
   "id": "3fddf518",
   "metadata": {},
   "source": [
    "Now let's see how much time the model takes for a run. The code below calculates `result_pv()` by measuring the run time by `timeit`. `number=1` indicates the run is performed only once."
   ]
  },
  {
   "cell_type": "code",
   "execution_count": 7,
   "id": "55aaff8b",
   "metadata": {},
   "outputs": [
    {
     "data": {
      "text/plain": [
       "0.8517356999218464"
      ]
     },
     "execution_count": 7,
     "metadata": {},
     "output_type": "execute_result"
    }
   ],
   "source": [
    "timeit.timeit('ex1.Projection.result_pv()', globals=globals(), number=1)"
   ]
  },
  {
   "cell_type": "markdown",
   "id": "c2f7976b",
   "metadata": {},
   "source": [
    "Let's output the mean of the present value of net cashflows of `ex1`, as we want to check it against the result of the optimized model."
   ]
  },
  {
   "cell_type": "code",
   "execution_count": 8,
   "id": "2f0e249f",
   "metadata": {},
   "outputs": [
    {
     "data": {
      "text/plain": [
       "44386401.300826795"
      ]
     },
     "execution_count": 8,
     "metadata": {},
     "output_type": "execute_result"
    }
   ],
   "source": [
    "ex1.Projection.result_pv()['Net Cashflow'].mean()"
   ]
  },
  {
   "cell_type": "markdown",
   "id": "30a965a7",
   "metadata": {},
   "source": [
    "## Profiling the run\n",
    "\n",
    "To profile `ex1`, we use modelx's feature to trace a run. modelx offers 3 functions, `start_stacktrace`, `get_stacktrace` and `stop_stacktrace`, to start, output and stop tracing the call stack during a run. \n",
    "The code block below is an idiomatic expression for using the functions:\n",
    "\n",
    "```python\n",
    "try:\n",
    "    mx.start_stacktrace(maxlen=None)\n",
    "    ex1.Projection.result_pv()\n",
    "    df = pd.DataFrame.from_dict(\n",
    "        mx.get_stacktrace(summarize=True), orient=\"index\")\n",
    "finally:\n",
    "    mx.stop_stacktrace()\n",
    "    ex1.clear_all()\n",
    "```\n",
    "\n",
    "In this example, we want more concise output on what cells are taking time and how much, so we define our custom function that profiles and reports a run using the code block above."
   ]
  },
  {
   "cell_type": "code",
   "execution_count": 9,
   "id": "f36620bb",
   "metadata": {},
   "outputs": [],
   "source": [
    "def get_time_info(model):\n",
    "    \n",
    "    try:\n",
    "        mx.start_stacktrace(maxlen=None)\n",
    "        model.Projection.result_pv()\n",
    "        df = pd.DataFrame.from_dict(\n",
    "            mx.get_stacktrace(summarize=True), orient=\"index\")\n",
    "    finally:\n",
    "        mx.stop_stacktrace()\n",
    "        model.clear_all()\n",
    "\n",
    "    # Remove model and space names from index\n",
    "    prefixlen = len(model.name + '.Projection.')\n",
    "    df.index = [s[prefixlen:] for s in df.index]     \n",
    "\n",
    "    # Add duration %\n",
    "    total = df['duration'].sum()\n",
    "    df['dur_perc'] = df['duration'] * 100 / total\n",
    "    df = df[['calls', 'duration', 'dur_perc']]\n",
    "    \n",
    "    return df.sort_values(['dur_perc'], ascending=False)"
   ]
  },
  {
   "cell_type": "markdown",
   "id": "33358fef",
   "metadata": {},
   "source": [
    "The code below performs a profile run, and output 10 most time-consuming cells."
   ]
  },
  {
   "cell_type": "code",
   "execution_count": 10,
   "id": "cc320585",
   "metadata": {},
   "outputs": [
    {
     "name": "stderr",
     "output_type": "stream",
     "text": [
      "UserWarning: call stack trace activated\n",
      "UserWarning: call stack trace deactivated\n"
     ]
    },
    {
     "data": {
      "text/html": [
       "<div>\n",
       "<style scoped>\n",
       "    .dataframe tbody tr th:only-of-type {\n",
       "        vertical-align: middle;\n",
       "    }\n",
       "\n",
       "    .dataframe tbody tr th {\n",
       "        vertical-align: top;\n",
       "    }\n",
       "\n",
       "    .dataframe thead th {\n",
       "        text-align: right;\n",
       "    }\n",
       "</style>\n",
       "<table border=\"1\" class=\"dataframe\">\n",
       "  <thead>\n",
       "    <tr style=\"text-align: right;\">\n",
       "      <th></th>\n",
       "      <th>calls</th>\n",
       "      <th>duration</th>\n",
       "      <th>dur_perc</th>\n",
       "    </tr>\n",
       "  </thead>\n",
       "  <tbody>\n",
       "    <tr>\n",
       "      <th>premium_pp(t)</th>\n",
       "      <td>121</td>\n",
       "      <td>0.168039</td>\n",
       "      <td>18.700078</td>\n",
       "    </tr>\n",
       "    <tr>\n",
       "      <th>surr_charge_rate(t)</th>\n",
       "      <td>121</td>\n",
       "      <td>0.152671</td>\n",
       "      <td>16.989868</td>\n",
       "    </tr>\n",
       "    <tr>\n",
       "      <th>net_amt_at_risk(t)</th>\n",
       "      <td>121</td>\n",
       "      <td>0.064587</td>\n",
       "      <td>7.187456</td>\n",
       "    </tr>\n",
       "    <tr>\n",
       "      <th>claim_pp(t, kind)</th>\n",
       "      <td>242</td>\n",
       "      <td>0.054906</td>\n",
       "      <td>6.110144</td>\n",
       "    </tr>\n",
       "    <tr>\n",
       "      <th>pv_claims(kind)</th>\n",
       "      <td>4</td>\n",
       "      <td>0.046301</td>\n",
       "      <td>5.152598</td>\n",
       "    </tr>\n",
       "    <tr>\n",
       "      <th>pols_new_biz(t)</th>\n",
       "      <td>121</td>\n",
       "      <td>0.039833</td>\n",
       "      <td>4.432807</td>\n",
       "    </tr>\n",
       "    <tr>\n",
       "      <th>pols_lapse(t)</th>\n",
       "      <td>121</td>\n",
       "      <td>0.034054</td>\n",
       "      <td>3.789694</td>\n",
       "    </tr>\n",
       "    <tr>\n",
       "      <th>pols_if_at(t, timing)</th>\n",
       "      <td>364</td>\n",
       "      <td>0.032744</td>\n",
       "      <td>3.643927</td>\n",
       "    </tr>\n",
       "    <tr>\n",
       "      <th>claims(t, kind)</th>\n",
       "      <td>484</td>\n",
       "      <td>0.032253</td>\n",
       "      <td>3.589191</td>\n",
       "    </tr>\n",
       "    <tr>\n",
       "      <th>expenses(t)</th>\n",
       "      <td>121</td>\n",
       "      <td>0.031707</td>\n",
       "      <td>3.528459</td>\n",
       "    </tr>\n",
       "  </tbody>\n",
       "</table>\n",
       "</div>"
      ],
      "text/plain": [
       "                       calls  duration   dur_perc\n",
       "premium_pp(t)            121  0.168039  18.700078\n",
       "surr_charge_rate(t)      121  0.152671  16.989868\n",
       "net_amt_at_risk(t)       121  0.064587   7.187456\n",
       "claim_pp(t, kind)        242  0.054906   6.110144\n",
       "pv_claims(kind)            4  0.046301   5.152598\n",
       "pols_new_biz(t)          121  0.039833   4.432807\n",
       "pols_lapse(t)            121  0.034054   3.789694\n",
       "pols_if_at(t, timing)    364  0.032744   3.643927\n",
       "claims(t, kind)          484  0.032253   3.589191\n",
       "expenses(t)              121  0.031707   3.528459"
      ]
     },
     "execution_count": 10,
     "metadata": {},
     "output_type": "execute_result"
    }
   ],
   "source": [
    "ex1.clear_all() # Clear the result from the previous run\n",
    "get_time_info(ex1).iloc[:10]"
   ]
  },
  {
   "cell_type": "markdown",
   "id": "3a435fef",
   "metadata": {},
   "source": [
    "The output tells that `surr_charge_rate(t)` is consuming time the most, which is more than 40% of the total run time. Its fomula looks like below.\n",
    "\n",
    "## Optimizing the model\n",
    "\n",
    "`surr_charge_rate(t)` represents the surrener charge rates to be applied at time `t`. The surrender charge rates are defined by rate ID (such as `type_1`) and duration, and stored in `surr_charge_table` as a DataFrame. "
   ]
  },
  {
   "cell_type": "code",
   "execution_count": 11,
   "id": "cad13801",
   "metadata": {},
   "outputs": [
    {
     "data": {
      "text/html": [
       "<div>\n",
       "<style scoped>\n",
       "    .dataframe tbody tr th:only-of-type {\n",
       "        vertical-align: middle;\n",
       "    }\n",
       "\n",
       "    .dataframe tbody tr th {\n",
       "        vertical-align: top;\n",
       "    }\n",
       "\n",
       "    .dataframe thead th {\n",
       "        text-align: right;\n",
       "    }\n",
       "</style>\n",
       "<table border=\"1\" class=\"dataframe\">\n",
       "  <thead>\n",
       "    <tr style=\"text-align: right;\">\n",
       "      <th></th>\n",
       "      <th>type_1</th>\n",
       "      <th>type_2</th>\n",
       "      <th>type_3</th>\n",
       "    </tr>\n",
       "    <tr>\n",
       "      <th>duration</th>\n",
       "      <th></th>\n",
       "      <th></th>\n",
       "      <th></th>\n",
       "    </tr>\n",
       "  </thead>\n",
       "  <tbody>\n",
       "    <tr>\n",
       "      <th>0</th>\n",
       "      <td>0.10</td>\n",
       "      <td>0.08</td>\n",
       "      <td>0.05</td>\n",
       "    </tr>\n",
       "    <tr>\n",
       "      <th>1</th>\n",
       "      <td>0.09</td>\n",
       "      <td>0.07</td>\n",
       "      <td>0.04</td>\n",
       "    </tr>\n",
       "    <tr>\n",
       "      <th>2</th>\n",
       "      <td>0.08</td>\n",
       "      <td>0.06</td>\n",
       "      <td>0.03</td>\n",
       "    </tr>\n",
       "    <tr>\n",
       "      <th>3</th>\n",
       "      <td>0.07</td>\n",
       "      <td>0.05</td>\n",
       "      <td>0.02</td>\n",
       "    </tr>\n",
       "    <tr>\n",
       "      <th>4</th>\n",
       "      <td>0.06</td>\n",
       "      <td>0.04</td>\n",
       "      <td>0.01</td>\n",
       "    </tr>\n",
       "    <tr>\n",
       "      <th>5</th>\n",
       "      <td>0.05</td>\n",
       "      <td>0.03</td>\n",
       "      <td>0.00</td>\n",
       "    </tr>\n",
       "    <tr>\n",
       "      <th>6</th>\n",
       "      <td>0.04</td>\n",
       "      <td>0.02</td>\n",
       "      <td>0.00</td>\n",
       "    </tr>\n",
       "    <tr>\n",
       "      <th>7</th>\n",
       "      <td>0.03</td>\n",
       "      <td>0.01</td>\n",
       "      <td>0.00</td>\n",
       "    </tr>\n",
       "    <tr>\n",
       "      <th>8</th>\n",
       "      <td>0.02</td>\n",
       "      <td>0.00</td>\n",
       "      <td>0.00</td>\n",
       "    </tr>\n",
       "    <tr>\n",
       "      <th>9</th>\n",
       "      <td>0.01</td>\n",
       "      <td>0.00</td>\n",
       "      <td>0.00</td>\n",
       "    </tr>\n",
       "    <tr>\n",
       "      <th>10</th>\n",
       "      <td>0.00</td>\n",
       "      <td>0.00</td>\n",
       "      <td>0.00</td>\n",
       "    </tr>\n",
       "  </tbody>\n",
       "</table>\n",
       "</div>"
      ],
      "text/plain": [
       "          type_1  type_2  type_3\n",
       "duration                        \n",
       "0           0.10    0.08    0.05\n",
       "1           0.09    0.07    0.04\n",
       "2           0.08    0.06    0.03\n",
       "3           0.07    0.05    0.02\n",
       "4           0.06    0.04    0.01\n",
       "5           0.05    0.03    0.00\n",
       "6           0.04    0.02    0.00\n",
       "7           0.03    0.01    0.00\n",
       "8           0.02    0.00    0.00\n",
       "9           0.01    0.00    0.00\n",
       "10          0.00    0.00    0.00"
      ]
     },
     "execution_count": 11,
     "metadata": {},
     "output_type": "execute_result"
    }
   ],
   "source": [
    "ex1.Projection.surr_charge_table"
   ]
  },
  {
   "cell_type": "markdown",
   "id": "bd219f38",
   "metadata": {},
   "source": [
    "`surr_charge_table_stacked()` transforms the DataFrame into a Series by combining the row and column indexes of the DataFrame into a MultiIndex. "
   ]
  },
  {
   "cell_type": "code",
   "execution_count": 12,
   "id": "423d7635",
   "metadata": {},
   "outputs": [
    {
     "data": {
      "text/plain": [
       "        duration\n",
       "type_1  0           0.10\n",
       "        1           0.09\n",
       "        2           0.08\n",
       "        3           0.07\n",
       "        4           0.06\n",
       "dtype: float64"
      ]
     },
     "execution_count": 12,
     "metadata": {},
     "output_type": "execute_result"
    }
   ],
   "source": [
    "ex1.Projection.surr_charge_table_stacked().head()"
   ]
  },
  {
   "cell_type": "markdown",
   "id": "13981e8f",
   "metadata": {},
   "source": [
    "`surr_charge_rate(t)` looks up `surr_charge_table_stacked()` using a MultiIndex key, which is created from `surr_charge_id()` and `duration(t)` and other cells as in the formula definition below.\n",
    "\n",
    "```python\n",
    "def surr_charge_rate(t):\n",
    "    idx = pd.MultiIndex.from_arrays(\n",
    "        [has_surr_charge() * surr_charge_id(),\n",
    "         np.minimum(duration(t), surr_charge_max_idx())])\n",
    "\n",
    "    return surr_charge_table_stacked().reindex(idx, fill_value=0).set_axis(\n",
    "        model_point().index, inplace=False)\n",
    "```"
   ]
  },
  {
   "cell_type": "markdown",
   "id": "5b35e2ac",
   "metadata": {},
   "source": [
    "Many of the formulas in our model rely heavily on pandas operations. However, we've found that we can achieve the same results at a significantly lower computational cost by refactoring these formulas. The key is to use numpy arrays in place of pandas DataFrames or Series.\n",
    "\n",
    "For instance, the formula `surr_charge_rate(t)` can be reformulated as:\n",
    "\n",
    "```python\n",
    "def surr_charge_rate(t):\n",
    "    ind_row = np.minimum(duration(t), surr_charge_max_idx())\n",
    "    return surr_charge_table.values.flat[\n",
    "        surr_charge_table_column() + ind_row * len(surr_charge_table.columns)]\n",
    "```\n",
    "\n",
    "Here, we introduce a new function, `surr_charge_table_column()`, which is defined as:\n",
    "\n",
    "```python\n",
    "def surr_charge_table_column():\n",
    "    return surr_charge_table.columns.searchsorted(\n",
    "        surr_charge_id(), side='right') - 1\n",
    "```\n",
    "\n",
    "In this revised version, `surr_charge_rate(t)` outputs a numpy array for each `t` rather than a Series. Similarly, other parts of our model can be adjusted to yield numpy arrays instead of Series or DataFrames.\n",
    "\n",
    "Furthermore, a contributor conducted [an in-depth analysis](https://github.com/actuarialopensource/benchmarks/blob/memory_optimizations/computation_graph/experiments.ipynb) of the present value logic within the model. He found a way to express it more succinctly, making it both clearer and faster compared to the original implementation. Even though the present value for each cash flow item is computed only once, leading to minimal gains in runtime improvement, this refactoring makes the model more efficient overall.\n",
    "\n",
    "All these refinements have been integrated into `CashValue_ME_EX4`, which is now part of our library. For a comprehensive comparison between the original and updated versions, you can view the link below:\n",
    "\n",
    "[View the full comparison here](https://www.diffchecker.com/Wx1MwguF/)\n",
    "\n",
    "In many of the updated formulas, you might notice the `.values` expression at the end. This property, when invoked on a DataFrame or Series, returns the contained data as a numpy array, bypassing the DataFrame or Series container.\n",
    "\n",
    "With all that said, let's now evaluate the performance of our optimized model."
   ]
  },
  {
   "cell_type": "code",
   "execution_count": 13,
   "id": "e9caf8ae",
   "metadata": {},
   "outputs": [
    {
     "data": {
      "text/plain": [
       "0.23794609995093197"
      ]
     },
     "execution_count": 13,
     "metadata": {},
     "output_type": "execute_result"
    }
   ],
   "source": [
    "ex4 = mx.read_model('CashValue_ME_EX4') \n",
    "timeit.timeit('ex4.Projection.result_pv()', globals=globals(), number=1)"
   ]
  },
  {
   "cell_type": "code",
   "execution_count": 14,
   "id": "2053f74a",
   "metadata": {},
   "outputs": [
    {
     "data": {
      "text/plain": [
       "44386401.30082682"
      ]
     },
     "execution_count": 14,
     "metadata": {},
     "output_type": "execute_result"
    }
   ],
   "source": [
    "ex4.Projection.result_pv()['Net Cashflow'].mean()"
   ]
  },
  {
   "cell_type": "code",
   "execution_count": 15,
   "id": "c7fb56da",
   "metadata": {},
   "outputs": [
    {
     "name": "stderr",
     "output_type": "stream",
     "text": [
      "UserWarning: call stack trace activated\n",
      "UserWarning: call stack trace deactivated\n"
     ]
    },
    {
     "data": {
      "text/html": [
       "<div>\n",
       "<style scoped>\n",
       "    .dataframe tbody tr th:only-of-type {\n",
       "        vertical-align: middle;\n",
       "    }\n",
       "\n",
       "    .dataframe tbody tr th {\n",
       "        vertical-align: top;\n",
       "    }\n",
       "\n",
       "    .dataframe thead th {\n",
       "        text-align: right;\n",
       "    }\n",
       "</style>\n",
       "<table border=\"1\" class=\"dataframe\">\n",
       "  <thead>\n",
       "    <tr style=\"text-align: right;\">\n",
       "      <th></th>\n",
       "      <th>calls</th>\n",
       "      <th>duration</th>\n",
       "      <th>dur_perc</th>\n",
       "    </tr>\n",
       "  </thead>\n",
       "  <tbody>\n",
       "    <tr>\n",
       "      <th>premium_pp(t)</th>\n",
       "      <td>121</td>\n",
       "      <td>0.031252</td>\n",
       "      <td>12.218230</td>\n",
       "    </tr>\n",
       "    <tr>\n",
       "      <th>surr_charge_rate(t)</th>\n",
       "      <td>121</td>\n",
       "      <td>0.025487</td>\n",
       "      <td>9.964533</td>\n",
       "    </tr>\n",
       "    <tr>\n",
       "      <th>av_pp_at(t, timing)</th>\n",
       "      <td>485</td>\n",
       "      <td>0.024317</td>\n",
       "      <td>9.507138</td>\n",
       "    </tr>\n",
       "    <tr>\n",
       "      <th>pv_claims(kind)</th>\n",
       "      <td>4</td>\n",
       "      <td>0.018868</td>\n",
       "      <td>7.376668</td>\n",
       "    </tr>\n",
       "    <tr>\n",
       "      <th>pols_lapse(t)</th>\n",
       "      <td>121</td>\n",
       "      <td>0.015675</td>\n",
       "      <td>6.128363</td>\n",
       "    </tr>\n",
       "    <tr>\n",
       "      <th>std_norm_rand()</th>\n",
       "      <td>1</td>\n",
       "      <td>0.015664</td>\n",
       "      <td>6.123889</td>\n",
       "    </tr>\n",
       "    <tr>\n",
       "      <th>pols_new_biz(t)</th>\n",
       "      <td>121</td>\n",
       "      <td>0.015619</td>\n",
       "      <td>6.106272</td>\n",
       "    </tr>\n",
       "    <tr>\n",
       "      <th>pols_if_at(t, timing)</th>\n",
       "      <td>364</td>\n",
       "      <td>0.015589</td>\n",
       "      <td>6.094620</td>\n",
       "    </tr>\n",
       "    <tr>\n",
       "      <th>pv_commissions()</th>\n",
       "      <td>1</td>\n",
       "      <td>0.013675</td>\n",
       "      <td>5.346495</td>\n",
       "    </tr>\n",
       "    <tr>\n",
       "      <th>maint_fee_pp(t)</th>\n",
       "      <td>121</td>\n",
       "      <td>0.010906</td>\n",
       "      <td>4.264016</td>\n",
       "    </tr>\n",
       "  </tbody>\n",
       "</table>\n",
       "</div>"
      ],
      "text/plain": [
       "                       calls  duration   dur_perc\n",
       "premium_pp(t)            121  0.031252  12.218230\n",
       "surr_charge_rate(t)      121  0.025487   9.964533\n",
       "av_pp_at(t, timing)      485  0.024317   9.507138\n",
       "pv_claims(kind)            4  0.018868   7.376668\n",
       "pols_lapse(t)            121  0.015675   6.128363\n",
       "std_norm_rand()            1  0.015664   6.123889\n",
       "pols_new_biz(t)          121  0.015619   6.106272\n",
       "pols_if_at(t, timing)    364  0.015589   6.094620\n",
       "pv_commissions()           1  0.013675   5.346495\n",
       "maint_fee_pp(t)          121  0.010906   4.264016"
      ]
     },
     "execution_count": 15,
     "metadata": {},
     "output_type": "execute_result"
    }
   ],
   "source": [
    "ex4.clear_all() # Clear the result from the previous run\n",
    "get_time_info(ex4).iloc[:10]"
   ]
  }
 ],
 "metadata": {
  "kernelspec": {
   "display_name": "Python 3 (ipykernel)",
   "language": "python",
   "name": "python3"
  },
  "language_info": {
   "codemirror_mode": {
    "name": "ipython",
    "version": 3
   },
   "file_extension": ".py",
   "mimetype": "text/x-python",
   "name": "python",
   "nbconvert_exporter": "python",
   "pygments_lexer": "ipython3",
   "version": "3.10.13"
  }
 },
 "nbformat": 4,
 "nbformat_minor": 5
}
