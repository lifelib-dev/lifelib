{
 "cells": [
  {
   "cell_type": "markdown",
   "id": "5ce1139e",
   "metadata": {},
   "source": [
    "# Creating premium table"
   ]
  },
  {
   "cell_type": "markdown",
   "id": "53bfe3af",
   "metadata": {},
   "source": [
    "\n",
    "\n",
    "This notebook shows how to create the premium table from `BasicTerm_M` model to be used in `BasicTerm_SE` and `BasicTerm_ME`.\n",
    "\n",
    "To calculate premiums, the present values of claims and annuities need to be taken at the beginning of the policy terms,\n",
    "but `BasicTerm_SE` and `BasicTerm_ME` start projections for in-force model points at time zero after their issues, so the present values are not available. Such being the case, a premium rate table needs to be fed into the models.\n",
    "This notebook demonstrates how to create the premium table using `BasicTerm_M` model. \n",
    "\n",
    "By default, `BasicTerm_M` and `BasicTerm_ME` models the same product using the same assumption, and `BasicTerm_M` is the new business version of `BasicTerm_ME.`\n",
    "\n",
    "Here're the steps to create the premium table.\n",
    "\n",
    "* Read the `BasicTerm_M` model.\n",
    "* Replace the model point table with the one for the premium table. By default, the premium rates vary only by `age_at_entry` and `policy_term`. The range of `age_at_entry` is 20 to 59, and `policy_term` takes the value of either 10, 15 or 20. The model point data for the premium table is created from the combinations of the two attributes.\n",
    "* Calculate per-policy premiums for the model points.\n",
    "* Create the premium table by processing the result of the above."
   ]
  },
  {
   "cell_type": "markdown",
   "id": "66e2145f",
   "metadata": {},
   "source": [
    "Click the badge below to run this notebook online on Google Colab. You need a Google account and need to be logged in to it to run this notebook on Google Colab.\n",
    "[![Run on Google Colab](https://colab.research.google.com/assets/colab-badge.svg)](https://colab.research.google.com/github/lifelib-dev/lifelib/blob/current/lifelib/libraries/basiclife/create_premium_table.ipynb)\n",
    "\n",
    "\n",
    "The next code cell below is relevant only when you run this notebook on Google Colab. It installs lifelib and creates a copy of the library for this notebook."
   ]
  },
  {
   "cell_type": "code",
   "execution_count": 1,
   "id": "ef2f6f0a",
   "metadata": {},
   "outputs": [],
   "source": [
    "import sys, os\n",
    "\n",
    "if 'google.colab' in sys.modules:\n",
    "    lib = 'basiclife'; lib_dir = '/content/'+ lib\n",
    "    if not os.path.exists(lib_dir):\n",
    "        !pip install lifelib\n",
    "        import lifelib; lifelib.create(lib, lib_dir)\n",
    "        \n",
    "    %cd $lib_dir"
   ]
  },
  {
   "cell_type": "markdown",
   "id": "69e7aed3",
   "metadata": {},
   "source": [
    "The next code imports the necessary Python modules."
   ]
  },
  {
   "cell_type": "code",
   "execution_count": 2,
   "id": "71da5b1f",
   "metadata": {},
   "outputs": [],
   "source": [
    "import itertools\n",
    "import modelx as mx\n",
    "import pandas as pd"
   ]
  },
  {
   "cell_type": "markdown",
   "id": "8f00a92a",
   "metadata": {},
   "source": [
    "The code below reads the `BasicTerm_M` model and assign it to `model` and the `Pojection` space to `space` for later use."
   ]
  },
  {
   "cell_type": "code",
   "execution_count": 3,
   "id": "cd4d5b2b",
   "metadata": {},
   "outputs": [],
   "source": [
    "model = mx.read_model('BasicTerm_M')\n",
    "space = model.Projection"
   ]
  },
  {
   "cell_type": "markdown",
   "id": "4c0adc01",
   "metadata": {},
   "source": [
    "The code below creates the model point table for the premium table.\n",
    "To calculate the premium rates as premium per sum assured, 1's are entered in the `sum_assured` column. "
   ]
  },
  {
   "cell_type": "code",
   "execution_count": 4,
   "id": "00d461d2",
   "metadata": {},
   "outputs": [
    {
     "data": {
      "text/html": [
       "<div>\n",
       "<style scoped>\n",
       "    .dataframe tbody tr th:only-of-type {\n",
       "        vertical-align: middle;\n",
       "    }\n",
       "\n",
       "    .dataframe tbody tr th {\n",
       "        vertical-align: top;\n",
       "    }\n",
       "\n",
       "    .dataframe thead th {\n",
       "        text-align: right;\n",
       "    }\n",
       "</style>\n",
       "<table border=\"1\" class=\"dataframe\">\n",
       "  <thead>\n",
       "    <tr style=\"text-align: right;\">\n",
       "      <th></th>\n",
       "      <th>age_at_entry</th>\n",
       "      <th>policy_term</th>\n",
       "      <th>sum_assured</th>\n",
       "    </tr>\n",
       "    <tr>\n",
       "      <th>point_id</th>\n",
       "      <th></th>\n",
       "      <th></th>\n",
       "      <th></th>\n",
       "    </tr>\n",
       "  </thead>\n",
       "  <tbody>\n",
       "    <tr>\n",
       "      <th>1</th>\n",
       "      <td>20</td>\n",
       "      <td>10</td>\n",
       "      <td>1</td>\n",
       "    </tr>\n",
       "    <tr>\n",
       "      <th>2</th>\n",
       "      <td>20</td>\n",
       "      <td>15</td>\n",
       "      <td>1</td>\n",
       "    </tr>\n",
       "    <tr>\n",
       "      <th>3</th>\n",
       "      <td>20</td>\n",
       "      <td>20</td>\n",
       "      <td>1</td>\n",
       "    </tr>\n",
       "    <tr>\n",
       "      <th>4</th>\n",
       "      <td>21</td>\n",
       "      <td>10</td>\n",
       "      <td>1</td>\n",
       "    </tr>\n",
       "    <tr>\n",
       "      <th>5</th>\n",
       "      <td>21</td>\n",
       "      <td>15</td>\n",
       "      <td>1</td>\n",
       "    </tr>\n",
       "    <tr>\n",
       "      <th>...</th>\n",
       "      <td>...</td>\n",
       "      <td>...</td>\n",
       "      <td>...</td>\n",
       "    </tr>\n",
       "    <tr>\n",
       "      <th>116</th>\n",
       "      <td>58</td>\n",
       "      <td>15</td>\n",
       "      <td>1</td>\n",
       "    </tr>\n",
       "    <tr>\n",
       "      <th>117</th>\n",
       "      <td>58</td>\n",
       "      <td>20</td>\n",
       "      <td>1</td>\n",
       "    </tr>\n",
       "    <tr>\n",
       "      <th>118</th>\n",
       "      <td>59</td>\n",
       "      <td>10</td>\n",
       "      <td>1</td>\n",
       "    </tr>\n",
       "    <tr>\n",
       "      <th>119</th>\n",
       "      <td>59</td>\n",
       "      <td>15</td>\n",
       "      <td>1</td>\n",
       "    </tr>\n",
       "    <tr>\n",
       "      <th>120</th>\n",
       "      <td>59</td>\n",
       "      <td>20</td>\n",
       "      <td>1</td>\n",
       "    </tr>\n",
       "  </tbody>\n",
       "</table>\n",
       "<p>120 rows × 3 columns</p>\n",
       "</div>"
      ],
      "text/plain": [
       "          age_at_entry  policy_term  sum_assured\n",
       "point_id                                        \n",
       "1                   20           10            1\n",
       "2                   20           15            1\n",
       "3                   20           20            1\n",
       "4                   21           10            1\n",
       "5                   21           15            1\n",
       "...                ...          ...          ...\n",
       "116                 58           15            1\n",
       "117                 58           20            1\n",
       "118                 59           10            1\n",
       "119                 59           15            1\n",
       "120                 59           20            1\n",
       "\n",
       "[120 rows x 3 columns]"
      ]
     },
     "execution_count": 4,
     "metadata": {},
     "output_type": "execute_result"
    }
   ],
   "source": [
    "df = pd.DataFrame(itertools.product(range(20, 60), [10, 15, 20]), columns=['age_at_entry', 'policy_term'])\n",
    "df.index += 1\n",
    "df.index.name = 'point_id'\n",
    "df[\"sum_assured\"] = 1\n",
    "df"
   ]
  },
  {
   "cell_type": "markdown",
   "id": "ea1f8383",
   "metadata": {},
   "source": [
    "The code below replaces the default model point table with the new one just created above."
   ]
  },
  {
   "cell_type": "code",
   "execution_count": 5,
   "id": "9d4cae36",
   "metadata": {},
   "outputs": [],
   "source": [
    "space.model_point_table = df"
   ]
  },
  {
   "cell_type": "markdown",
   "id": "ece8e88d",
   "metadata": {},
   "source": [
    "Since the sum assured of all the model points are all 1, `premium_pp` returns 0 because of the rounding operation in its formula. \n",
    "Below defines the `premium_rate` by modifying the `premium_pp` formula and removing the rounding so that the formula can be used for creating the premium rates."
   ]
  },
  {
   "cell_type": "code",
   "execution_count": 6,
   "id": "7af10c19",
   "metadata": {},
   "outputs": [
    {
     "data": {
      "text/plain": [
       "def premium_pp():\n",
       "    \"\"\"Monthly premium per policy\n",
       "\n",
       "    Monthly premium amount per policy defined as::\n",
       "\n",
       "        round((1 + loading_prem()) * net_premium(), 2)\n",
       "\n",
       "    .. versionchanged:: 0.2.0\n",
       "       The ``t`` parameter is removed.\n",
       "\n",
       "    .. seealso::\n",
       "\n",
       "        * :func:`loading_prem`\n",
       "        * :func:`net_premium_pp`\n",
       "\n",
       "    \"\"\"\n",
       "    return np.around((1 + loading_prem()) * net_premium_pp(), 2)"
      ]
     },
     "execution_count": 6,
     "metadata": {},
     "output_type": "execute_result"
    }
   ],
   "source": [
    "space.premium_pp.formula"
   ]
  },
  {
   "cell_type": "code",
   "execution_count": 7,
   "id": "0eb44b4d",
   "metadata": {},
   "outputs": [],
   "source": [
    "@mx.defcells\n",
    "def premium_rate():\n",
    "    return (1 + loading_prem()) * net_premium_pp()"
   ]
  },
  {
   "cell_type": "code",
   "execution_count": 8,
   "id": "a2ee55a0",
   "metadata": {},
   "outputs": [
    {
     "data": {
      "text/plain": [
       "array([4.64097874e-05, 5.20142609e-05, 5.74163309e-05, 4.76585304e-05,\n",
       "       5.35875832e-05, 5.93505736e-05, 4.90033193e-05, 5.52810740e-05,\n",
       "       6.14333696e-05, 5.04508489e-05, 5.71036033e-05, 6.36762900e-05,\n",
       "       5.20084360e-05, 5.90648826e-05, 6.60920324e-05, 5.36840817e-05,\n",
       "       6.11755527e-05, 6.86945406e-05, 5.54865410e-05, 6.34472793e-05,\n",
       "       7.14991376e-05, 5.74253987e-05, 6.58928613e-05, 7.45226753e-05,\n",
       "       5.95111559e-05, 6.85263505e-05, 7.77837009e-05, 6.17553240e-05,\n",
       "       7.13631858e-05, 8.13026444e-05, 6.41705320e-05, 7.44203428e-05,\n",
       "       8.51020274e-05, 6.67706437e-05, 7.77165017e-05, 8.92066979e-05,\n",
       "       6.95708907e-05, 8.12722349e-05, 9.36440944e-05, 7.25880198e-05,\n",
       "       8.51102174e-05, 9.84445414e-05, 7.58404584e-05, 8.92554627e-05,\n",
       "       1.03641583e-04, 7.93484996e-05, 9.37355878e-05, 1.09272355e-04,\n",
       "       8.31345102e-05, 9.85811110e-05, 1.15378012e-04, 8.72231632e-05,\n",
       "       1.03825787e-04, 1.22004196e-04, 9.16416996e-05, 1.09506983e-04,\n",
       "       1.29201578e-04, 9.64202228e-05, 1.15666105e-04, 1.37026460e-04,\n",
       "       1.01592029e-04, 1.22349075e-04, 1.45541457e-04, 1.07193980e-04,\n",
       "       1.29606875e-04, 1.54816273e-04, 1.13266925e-04, 1.37496152e-04,\n",
       "       1.64928569e-04, 1.19856171e-04, 1.46079913e-04, 1.75964954e-04,\n",
       "       1.27012023e-04, 1.55428306e-04, 1.88022101e-04, 1.34790385e-04,\n",
       "       1.65619502e-04, 2.01208012e-04, 1.43253447e-04, 1.76740699e-04,\n",
       "       2.15643451e-04, 1.52470461e-04, 1.88889258e-04, 2.31463569e-04,\n",
       "       1.62518620e-04, 2.02173994e-04, 2.48819743e-04, 1.73484055e-04,\n",
       "       2.16716638e-04, 2.67881664e-04, 1.85462968e-04, 2.32653505e-04,\n",
       "       2.88839696e-04, 1.98562923e-04, 2.50137387e-04, 3.11907554e-04,\n",
       "       2.12904306e-04, 2.69339702e-04, 3.37325333e-04, 2.28622001e-04,\n",
       "       2.90452947e-04, 3.65362941e-04, 2.45867287e-04, 3.13693489e-04,\n",
       "       3.96323966e-04, 2.64810009e-04, 3.39304745e-04, 4.30550057e-04,\n",
       "       2.85641059e-04, 3.67560794e-04, 4.68425846e-04, 3.08575204e-04,\n",
       "       3.98770509e-04, 5.10384491e-04, 3.33854326e-04, 4.33282251e-04,\n",
       "       5.56913884e-04, 3.61751124e-04, 4.71489217e-04, 6.08563590e-04])"
      ]
     },
     "execution_count": 8,
     "metadata": {},
     "output_type": "execute_result"
    }
   ],
   "source": [
    "premium_rate()"
   ]
  },
  {
   "cell_type": "markdown",
   "id": "a1d40c99",
   "metadata": {},
   "source": [
    "The code below creates the premium table as a Series indexed by `age_at_entry` and `policy_term` from the result above.\n",
    "The table is created by modifying the copy of the model point table and assigning the result of `premium_rate` above."
   ]
  },
  {
   "cell_type": "code",
   "execution_count": 9,
   "id": "7bf4d583",
   "metadata": {},
   "outputs": [
    {
     "data": {
      "text/plain": [
       "age_at_entry  policy_term\n",
       "20            10             0.000046\n",
       "              15             0.000052\n",
       "              20             0.000057\n",
       "21            10             0.000048\n",
       "              15             0.000054\n",
       "                               ...   \n",
       "58            15             0.000433\n",
       "              20             0.000557\n",
       "59            10             0.000362\n",
       "              15             0.000471\n",
       "              20             0.000609\n",
       "Name: premium_rate, Length: 120, dtype: float64"
      ]
     },
     "execution_count": 9,
     "metadata": {},
     "output_type": "execute_result"
    }
   ],
   "source": [
    "premium_rate_table = df.copy()\n",
    "premium_rate_table[\"premium_rate\"] = space.premium_rate()\n",
    "del premium_rate_table[\"sum_assured\"]\n",
    "premium_rate_table.set_index([\"age_at_entry\", \"policy_term\"], inplace=True)\n",
    "premium_rate_table[\"premium_rate\"]   # As Series"
   ]
  }
 ],
 "metadata": {
  "kernelspec": {
   "display_name": "Python 3 (ipykernel)",
   "language": "python",
   "name": "python3"
  },
  "language_info": {
   "codemirror_mode": {
    "name": "ipython",
    "version": 3
   },
   "file_extension": ".py",
   "mimetype": "text/x-python",
   "name": "python",
   "nbconvert_exporter": "python",
   "pygments_lexer": "ipython3",
   "version": "3.10.13"
  }
 },
 "nbformat": 4,
 "nbformat_minor": 5
}
