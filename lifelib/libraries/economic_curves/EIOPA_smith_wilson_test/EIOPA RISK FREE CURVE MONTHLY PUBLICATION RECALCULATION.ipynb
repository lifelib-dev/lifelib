{
 "cells": [
  {
   "cell_type": "markdown",
   "id": "fa140ce4",
   "metadata": {},
   "source": [
    "# EIOPA RISK FREE CURVE MONTHLY PUBLICATION RECALCULATION\n",
    "\n",
    "The risk free curve is one of the principal inputs into an economic scenario generator. This notebook recalculates the risk free curve using the parameters that are claimed to be used. The European Insurance and Occupational Pensions Authority (EIOPA)  publishes their own yield curve prediction. To do this they use the Smith & Wilson algorithm."
   ]
  },
  {
   "cell_type": "markdown",
   "id": "08990166",
   "metadata": {},
   "source": [
    "### Goal\n",
    "\n",
    "The goal of this test is to replicate the EIOPA yield curve This test will use the methodology that EIOPA claims it is using and the calibration vector that they publish. If the test is passed, the user can be more confident, that EIOPA risk free rate (RFR) curve was generated using the described methodology/calibration and that the process was implemented correctly. \n"
   ]
  },
  {
   "cell_type": "markdown",
   "id": "096e05aa",
   "metadata": {},
   "source": [
    "## Note on Smith & Wilson algorithm\n",
    "\n",
    "To replicate the calculations, this example uses a modificatied Smith&Wilson implementation (The original implementation is avalible on [GitHub](https://github.com/qnity):\n",
    "-  [Python](https://github.com/qnity/insurance_python/tree/main/smith%26wilson)\n",
    "-  [Matlab](https://github.com/qnity/insurance_matlab/tree/main/smith%26wilson)\n",
    "-  [JavaScript](https://github.com/qnity/insurance_javascript/tree/main/smith-wilson)"
   ]
  },
  {
   "cell_type": "markdown",
   "id": "7648527f",
   "metadata": {},
   "source": [
    "## Data requirements\n",
    "\n",
    "In this example, we look at the EIOPA risk free rate publication for August 2022. The publication can be found on the [EIOPA RFR website](https://www.eiopa.europa.eu/tools-and-data/risk-free-interest-rate-term-structures_en)."
   ]
  },
  {
   "cell_type": "markdown",
   "id": "33d73814",
   "metadata": {},
   "source": [
    "The observed maturities `M_Obs` and the calibrated vector `Qb` can be found in the Excel sheet *EIOPA_RFR_20220831_Qb_SW.xlsx*.\n",
    "\n",
    "For this example, the curve without the volatility adjustment (VA) is used. It can be found in the sheet *SW_Qb_no_VA*. This example is focused on the EUR curve, but this example can be easily modified for any other curve."
   ]
  },
  {
   "cell_type": "markdown",
   "id": "e48dc66b",
   "metadata": {},
   "source": [
    "The target maturities (`T_Obs`), the additional parameters (`UFR` and `alpha`), and the given curve can be found in the Excel *EIOPA_RFR_20220831_Term_Structures.xlsx*, sheet *RFR_spot_no_VA*."
   ]
  },
  {
   "cell_type": "markdown",
   "id": "1d98467c",
   "metadata": {},
   "source": [
    "## Success criteria\n",
    "\n",
    "In this example, the following success criteria is proposed:\n",
    "-  Maximum difference between the given curve and the recalculated curve is less than 100 bps.\n",
    "-  Average difference between the curves is less than 10 bps."
   ]
  },
  {
   "cell_type": "code",
   "execution_count": 1,
   "id": "60c22bfc",
   "metadata": {},
   "outputs": [],
   "source": [
    "test_statistics_max_diff_in_bps = 0.1\n",
    "test_statistics_average_diff_in_bps = 0.05"
   ]
  },
  {
   "cell_type": "markdown",
   "id": "9ef1d950",
   "metadata": {},
   "source": [
    "The success function is called at the end of the test to confirm if the success criteria have been meet."
   ]
  },
  {
   "cell_type": "code",
   "execution_count": 2,
   "id": "52ecdfc3",
   "metadata": {},
   "outputs": [],
   "source": [
    "def SuccessTest(TestStatistics, threshold_max, threshold_mean):\n",
    "    if max(TestStatistics)<threshold_max:\n",
    "        print(\"Test passed\")\n",
    "    else:\n",
    "        print(\"Test failed\")\n",
    "\n",
    "    if np.mean(TestStatistics)<threshold_mean:\n",
    "        print(\"Test passed\")\n",
    "    else:\n",
    "        print(\"Test failed\")"
   ]
  },
  {
   "cell_type": "markdown",
   "id": "aad4ed8a",
   "metadata": {},
   "source": [
    "This implementation uses three well established Python packages widely used in the financial industry. Pandas (https://pandas.pydata.org/docs/), Numpy (https://numpy.org/doc/), and Matplotlib (https://matplotlib.org/stable/index.html)"
   ]
  },
  {
   "cell_type": "code",
   "execution_count": 3,
   "id": "16d0bbf7",
   "metadata": {},
   "outputs": [],
   "source": [
    "import numpy as np\n",
    "import pandas as pd\n",
    "import matplotlib.pyplot as plt"
   ]
  },
  {
   "cell_type": "markdown",
   "id": "ecd2047f",
   "metadata": {},
   "source": [
    "### Step 1: Data\n",
    "\n",
    "Insertion of data provided by EIOPA."
   ]
  },
  {
   "cell_type": "code",
   "execution_count": 4,
   "id": "cfd86d98",
   "metadata": {},
   "outputs": [],
   "source": [
    "# Maturity of observations:\n",
    "M_Obs = np.transpose(np.array([1, 2, 3, 4, 5, 6, 7, 8, 9, 10, 11, 12, 13, 14, 15, 16, 17, 18, 19, 20]))\n",
    "\n",
    "# Ultimate froward rate ufr represents the rate to which the rate curve will converge as time increases:\n",
    "ufr = 0.0345\n",
    "\n",
    "# Convergence speed parameter alpha controls the speed at which the curve converges towards the ufr from the last liquid point:\n",
    "alpha = 0.123101  \n",
    "\n",
    "# For which maturities do we want the SW algorithm to calculate the rates. In this case, for every year up to 65:\n",
    "M_Target = np.transpose(np.arange(1,150)) \n",
    "\n",
    "# Qb calibration vector published by EIOPA for the August 2022 calibration:\n",
    "Qb = np.transpose(np.array([16.6492808327834,\n",
    "                            -15.5532139436678,\n",
    "                            6.35667251451134,\n",
    "                            -1.23854722782483,\n",
    "                            0.365103848953126,\n",
    "                            -1.0571571437455,\n",
    "                            1.33917386115124, \n",
    "                            -0.278129268962339,\n",
    "                            -2.90540200100003, \n",
    "                            10.0852060296744, \n",
    "                            -13.5164497129641, \n",
    "                            7.48340006599309, \n",
    "                            -0.030860450530635,\n",
    "                            -0.02983127165842, \n",
    "                            -2.20860220321924,  \n",
    "                            0.022505350081095, \n",
    "                            0.021754809164905, \n",
    "                            0.021029298371102, \n",
    "                            0.020327982959016, \n",
    "                            0.888352798117858]))"
   ]
  },
  {
   "cell_type": "markdown",
   "id": "bc89a197",
   "metadata": {},
   "source": [
    "### Step 2: Smith & Wilson calculation functions\n",
    "\n",
    "In this step, the independent version of the Smith&Wilson algorithm is implemented. To do this, two functions are taken from the repository and modified to accept the product of `Q*b` instead of the calibration vector `b`."
   ]
  },
  {
   "cell_type": "code",
   "execution_count": 5,
   "id": "d0a9861a",
   "metadata": {},
   "outputs": [],
   "source": [
    "def SWExtrapolate(M_Target, M_Obs, Qb, ufr, alpha):\n",
    "    # SWEXTRAPOLATE Interpolate or/and extrapolate rates for targeted maturities using a Smith-Wilson algorithm.\n",
    "    # out = SWExtrapolate(M_Target, M_Obs, Qb, ufr, alpha) calculates the rates for maturities specified in M_Target using the calibration vector b.\n",
    "    #\n",
    "    # Arguments: \n",
    "    #    M_Target = k x 1 ndarray. Each element represents a bond maturity of interest. Ex. M_Target = [[1], [2], [3], [5]]\n",
    "    #    M_Obs =    n x 1 ndarray. Observed bond maturities used for calibrating the calibration vector b. Ex. M_Obs = [[1], [3]]\n",
    "    #    Qb =       n x 1 ndarray. Calibration vector calculated on observed bonds.\n",
    "    #    ufr =      1 x 1 floating number. Representing the ultimate forward rate.\n",
    "    #       Ex. ufr = 0.042\n",
    "    #    alpha =    1 x 1 floating number. Representing the convergence speed parameter alpha. Ex. alpha = 0.05\n",
    "    #    rates\n",
    "    #\n",
    "    # Returns:\n",
    "    #    k x 1 ndarray. Represents the targeted rates for a zero-coupon bond. Each rate belongs to a targeted zero-coupon bond with a maturity from T_Target. Ex. r = [0.0024; 0.0029; 0.0034; 0.0039]\n",
    "    #\n",
    "    # For more information see https://www.eiopa.europa.eu/sites/default/files/risk_free_interest_rate/12092019-technical_documentation.pdf\n",
    "\n",
    "    def SWHeart(u, v, alpha):\n",
    "        # SWHEART Calculate the heart of the Wilson function.\n",
    "        # H = SWHeart(u, v, alpha) calculates the matrix H (Heart of the Wilson\n",
    "        # function) for maturities specified by vectors u and v. The formula is\n",
    "        # taken from the EIOPA technical specifications paragraph 132.\n",
    "        #\n",
    "        # Arguments:  \n",
    "        #    u =     n_1 x 1 vector of maturities. Ex. u = [1; 3]\n",
    "        #    v =     n_2 x 1 vector of maturities. Ex. v = [1; 2; 3; 5]\n",
    "        #    alpha = 1 x 1 floating number representing the convergence speed parameter alpha. Ex. alpha = 0.05\n",
    "        #\n",
    "        # Returns:\n",
    "        #    n_1 x n_2 matrix representing the Heart of the Wilson function for selected maturities and parameter alpha. H is calculated as in the paragraph 132 of the EIOPA documentation. \n",
    "        #\n",
    "        # For more information see https://www.eiopa.europa.eu/sites/default/files/risk_free_interest_rate/12092019-technical_documentation.pdf\n",
    "\n",
    "        u_Mat = np.tile(u, [v.size, 1]).transpose()\n",
    "        v_Mat = np.tile(v, [u.size, 1])\n",
    "        return 0.5 * (alpha * (u_Mat + v_Mat) + np.exp(-alpha * (u_Mat + v_Mat)) - alpha * np.absolute(u_Mat-v_Mat) - np.exp(-alpha * np.absolute(u_Mat-v_Mat))); # Heart of the Wilson function from paragraph 132\n",
    "\n",
    "    H = SWHeart(M_Target, M_Obs, alpha) # Heart of the Wilson function from paragraph 132\n",
    "    p = np.exp(-np.log(1+ufr)* M_Target) + np.diag(np.exp(-np.log(1+ufr) * M_Target)) @ H @ Qb # Discount pricing function for targeted maturities from paragraph 147\n",
    "    return p ** (-1/ M_Target) -1 # Convert obtained prices to rates and return prices"
   ]
  },
  {
   "cell_type": "markdown",
   "id": "583e11fe",
   "metadata": {},
   "source": [
    "### Step 3: Generation of the final output curve\n",
    "\n",
    "The observed maturities, target maturities, and the model parameters provided by EIOPA are used to generate the target curve."
   ]
  },
  {
   "cell_type": "code",
   "execution_count": 6,
   "id": "d1ca7aaf",
   "metadata": {},
   "outputs": [
    {
     "data": {
      "text/html": [
       "<div>\n",
       "<style scoped>\n",
       "    .dataframe tbody tr th:only-of-type {\n",
       "        vertical-align: middle;\n",
       "    }\n",
       "\n",
       "    .dataframe tbody tr th {\n",
       "        vertical-align: top;\n",
       "    }\n",
       "\n",
       "    .dataframe thead th {\n",
       "        text-align: right;\n",
       "    }\n",
       "</style>\n",
       "<table border=\"1\" class=\"dataframe\">\n",
       "  <thead>\n",
       "    <tr style=\"text-align: right;\">\n",
       "      <th></th>\n",
       "      <th>Recalculated rates</th>\n",
       "    </tr>\n",
       "  </thead>\n",
       "  <tbody>\n",
       "    <tr>\n",
       "      <th>0</th>\n",
       "      <td>0.017450</td>\n",
       "    </tr>\n",
       "    <tr>\n",
       "      <th>1</th>\n",
       "      <td>0.020845</td>\n",
       "    </tr>\n",
       "    <tr>\n",
       "      <th>2</th>\n",
       "      <td>0.021150</td>\n",
       "    </tr>\n",
       "    <tr>\n",
       "      <th>3</th>\n",
       "      <td>0.021422</td>\n",
       "    </tr>\n",
       "    <tr>\n",
       "      <th>4</th>\n",
       "      <td>0.021729</td>\n",
       "    </tr>\n",
       "  </tbody>\n",
       "</table>\n",
       "</div>"
      ],
      "text/plain": [
       "   Recalculated rates\n",
       "0            0.017450\n",
       "1            0.020845\n",
       "2            0.021150\n",
       "3            0.021422\n",
       "4            0.021729"
      ]
     },
     "execution_count": 6,
     "metadata": {},
     "output_type": "execute_result"
    }
   ],
   "source": [
    "r_Target = SWExtrapolate(M_Target,M_Obs, Qb, ufr, alpha)\n",
    "r_Target = pd.DataFrame(r_Target,columns=['Recalculated rates'])\n",
    "\n",
    "r_Target.head()"
   ]
  },
  {
   "cell_type": "markdown",
   "id": "bac43b5b",
   "metadata": {},
   "source": [
    "### Step 4: Comparson test\n",
    "\n",
    "Comparison of the output curve with the final curve provided by EIOPA. The test is passed if the success criteria is reached. \n",
    "\n",
    "The provided curve is availabe in the Excel sheet: *EIOPA_RFR_20220831_Term_Structures* in the sheet *RFR_spot_no_VA*.    "
   ]
  },
  {
   "cell_type": "code",
   "execution_count": 7,
   "id": "4b76c059",
   "metadata": {},
   "outputs": [
    {
     "data": {
      "text/html": [
       "<div>\n",
       "<style scoped>\n",
       "    .dataframe tbody tr th:only-of-type {\n",
       "        vertical-align: middle;\n",
       "    }\n",
       "\n",
       "    .dataframe tbody tr th {\n",
       "        vertical-align: top;\n",
       "    }\n",
       "\n",
       "    .dataframe thead th {\n",
       "        text-align: right;\n",
       "    }\n",
       "</style>\n",
       "<table border=\"1\" class=\"dataframe\">\n",
       "  <thead>\n",
       "    <tr style=\"text-align: right;\">\n",
       "      <th></th>\n",
       "      <th>Given rates</th>\n",
       "    </tr>\n",
       "  </thead>\n",
       "  <tbody>\n",
       "    <tr>\n",
       "      <th>0</th>\n",
       "      <td>0.01745</td>\n",
       "    </tr>\n",
       "    <tr>\n",
       "      <th>1</th>\n",
       "      <td>0.02085</td>\n",
       "    </tr>\n",
       "    <tr>\n",
       "      <th>2</th>\n",
       "      <td>0.02115</td>\n",
       "    </tr>\n",
       "    <tr>\n",
       "      <th>3</th>\n",
       "      <td>0.02142</td>\n",
       "    </tr>\n",
       "    <tr>\n",
       "      <th>4</th>\n",
       "      <td>0.02173</td>\n",
       "    </tr>\n",
       "  </tbody>\n",
       "</table>\n",
       "</div>"
      ],
      "text/plain": [
       "   Given rates\n",
       "0      0.01745\n",
       "1      0.02085\n",
       "2      0.02115\n",
       "3      0.02142\n",
       "4      0.02173"
      ]
     },
     "execution_count": 7,
     "metadata": {},
     "output_type": "execute_result"
    }
   ],
   "source": [
    "EUR_curve = np.transpose(np.array([0.01745, 0.02085, 0.02115, 0.02142, 0.02173, 0.02201, 0.02227, 0.02261, 0.02295, 0.02333, 0.02382, 0.0239, 0.024, 0.02411, 0.02408, 0.02384, 0.02347, 0.02308, 0.02274, 0.02249, 0.02235, 0.02231, 0.02235, 0.02244, 0.02258, 0.02274, 0.02293, 0.02313, 0.02334, 0.02356, 0.02378, 0.02401, 0.02423, 0.02445, 0.02467, 0.02488, 0.02509, 0.02529, 0.02549, 0.02568, 0.02587, 0.02605, 0.02622, 0.02639, 0.02656, 0.02672, 0.02687, 0.02702, 0.02716, 0.0273, 0.02743, 0.02756, 0.02769, 0.02781, 0.02793, 0.02804, 0.02815, 0.02826, 0.02836, 0.02846, 0.02856, 0.02865, 0.02874, 0.02883, 0.02892, 0.029,0.02908, 0.02916, 0.02924, 0.02931, 0.02939, 0.02946, 0.02953, 0.02959, 0.02966, 0.02972, 0.02978, 0.02984, 0.0299, 0.02996, 0.03001, 0.03007, 0.03012, 0.03017, 0.03022, 0.03027, 0.03032, 0.03037, 0.03042, 0.03046, 0.03051, 0.03055, 0.03059, 0.03063, 0.03067, 0.03071, 0.03075, 0.03079, 0.03083, 0.03086, 0.0309, 0.03094, 0.03097, 0.031, 0.03104, 0.03107, 0.0311, 0.03113, 0.03116, 0.03119, 0.03122, 0.03125, 0.03128, 0.03131, 0.03134, 0.03137, 0.03139, 0.03142, 0.03144, 0.03147, 0.03149, 0.03152, 0.03154, 0.03157, 0.03159, 0.03161, 0.03164, 0.03166, 0.03168, 0.0317, 0.03172, 0.03174, 0.03177, 0.03179, 0.03181, 0.03183, 0.03185, 0.03186, 0.03188, 0.0319, 0.03192, 0.03194, 0.03196, 0.03197, 0.03199, 0.03201, 0.03203, 0.03204, 0.03206])) \n",
    "EUR_curve = pd.DataFrame(EUR_curve,columns=['Given rates'])\n",
    "EUR_curve.head()"
   ]
  },
  {
   "cell_type": "markdown",
   "id": "6a2dfc2c",
   "metadata": {},
   "source": [
    "This implementation looks at two kinds of test statistics. The average deviation and the maximum deviation. \n",
    "\n",
    "The average deviation is deffined as:\n",
    "\n",
    "$$S_{AVERAGE} = \\frac{1}{T} \\sum_{t = 0}^T \\left|r_{EIOPA}(t) - r_{EST}(t) \\right|$$\n",
    "\n",
    "The maximum deviation is deffined as:\n",
    "$$ S_{MAX} = \\max_t \\left| r_{EIOPA}(t) - r_{EST}(t) \\right| $$\n",
    "\n",
    "Where `T` is the maximum maturity available. \n",
    "\n",
    "The average difference test is successful if:\n",
    "$$S_{AVERAGE} < 0.05 bps$$   \n",
    "\n",
    "\n",
    "The maximum difference test is successful if:\n",
    "$$ S_{MAX} <  0.1 bps $$\n",
    "\n",
    "\n"
   ]
  },
  {
   "cell_type": "code",
   "execution_count": 8,
   "id": "37f28cca",
   "metadata": {},
   "outputs": [
    {
     "data": {
      "text/html": [
       "<div>\n",
       "<style scoped>\n",
       "    .dataframe tbody tr th:only-of-type {\n",
       "        vertical-align: middle;\n",
       "    }\n",
       "\n",
       "    .dataframe tbody tr th {\n",
       "        vertical-align: top;\n",
       "    }\n",
       "\n",
       "    .dataframe thead th {\n",
       "        text-align: right;\n",
       "    }\n",
       "</style>\n",
       "<table border=\"1\" class=\"dataframe\">\n",
       "  <thead>\n",
       "    <tr style=\"text-align: right;\">\n",
       "      <th></th>\n",
       "      <th>Abs diff in bps</th>\n",
       "    </tr>\n",
       "  </thead>\n",
       "  <tbody>\n",
       "    <tr>\n",
       "      <th>0</th>\n",
       "      <td>2.445960e-10</td>\n",
       "    </tr>\n",
       "    <tr>\n",
       "      <th>1</th>\n",
       "      <td>4.921938e-02</td>\n",
       "    </tr>\n",
       "    <tr>\n",
       "      <th>2</th>\n",
       "      <td>3.519053e-03</td>\n",
       "    </tr>\n",
       "    <tr>\n",
       "      <th>3</th>\n",
       "      <td>1.871457e-02</td>\n",
       "    </tr>\n",
       "    <tr>\n",
       "      <th>4</th>\n",
       "      <td>7.976257e-03</td>\n",
       "    </tr>\n",
       "  </tbody>\n",
       "</table>\n",
       "</div>"
      ],
      "text/plain": [
       "   Abs diff in bps\n",
       "0     2.445960e-10\n",
       "1     4.921938e-02\n",
       "2     3.519053e-03\n",
       "3     1.871457e-02\n",
       "4     7.976257e-03"
      ]
     },
     "execution_count": 8,
     "metadata": {},
     "output_type": "execute_result"
    }
   ],
   "source": [
    "test_statistics_bdp = pd.DataFrame(abs(r_Target.values-EUR_curve.values)*10000, columns=[\"Abs diff in bps\"])\n",
    "test_statistics_bdp.head()"
   ]
  },
  {
   "cell_type": "code",
   "execution_count": 9,
   "id": "afe6baa5",
   "metadata": {
    "scrolled": false
   },
   "outputs": [
    {
     "data": {
      "image/png": "[encoded data removed]",
      "text/plain": [
       "<Figure size 640x480 with 2 Axes>"
      ]
     },
     "metadata": {},
     "output_type": "display_data"
    }
   ],
   "source": [
    "x_data_label = range(2022,2022+r_Target.shape[0],1)\n",
    "fig, (ax1, ax2) = plt.subplots(2,1)\n",
    "ax1.plot(x_data_label, r_Target.values, color='tab:blue')\n",
    "ax1.plot(x_data_label, EUR_curve.values, color='tab:orange')\n",
    "\n",
    "ax1.set_ylabel(\"Yield\")\n",
    "ax1.set_title('Recalculated & given curves')\n",
    "\n",
    "ax2.plot(x_data_label, test_statistics_bdp)\n",
    "ax2.axhline(y = test_statistics_max_diff_in_bps, color = 'r', linestyle = '-')\n",
    "\n",
    "ax2.set_xlabel(\"time\")\n",
    "ax2.set_ylabel(\"Difference (in bps)\")\n",
    "ax2.set_title('Absolute difference in yield curve')\n",
    "fig.tight_layout(h_pad=2)\n",
    "plt.show()"
   ]
  },
  {
   "cell_type": "code",
   "execution_count": 10,
   "id": "e8a77118",
   "metadata": {},
   "outputs": [
    {
     "name": "stdout",
     "output_type": "stream",
     "text": [
      "Test passed\n",
      "Test passed\n"
     ]
    }
   ],
   "source": [
    "SuccessTest(test_statistics_bdp.values, test_statistics_max_diff_in_bps, test_statistics_average_diff_in_bps)"
   ]
  },
  {
   "cell_type": "markdown",
   "id": "6c2b0b30",
   "metadata": {},
   "source": [
    "### Step 5: Conclusion\n",
    "\n",
    "The EIOPA curve generated of the August 2022 submission has passed the success criteria. Based on the tests preformed, it is very likely that the curve was generated using the the Smith & Wilson algorithm with the calibration vector that was provided in the *EIOPA_RFR_20220831_Qb_SW.xlsx* sheet."
   ]
  }
 ],
 "metadata": {
  "kernelspec": {
   "display_name": "Python 3 (ipykernel)",
   "language": "python",
   "name": "python3"
  },
  "language_info": {
   "codemirror_mode": {
    "name": "ipython",
    "version": 3
   },
   "file_extension": ".py",
   "mimetype": "text/x-python",
   "name": "python",
   "nbconvert_exporter": "python",
   "pygments_lexer": "ipython3",
   "version": "3.10.13"
  }
 },
 "nbformat": 4,
 "nbformat_minor": 5
}
